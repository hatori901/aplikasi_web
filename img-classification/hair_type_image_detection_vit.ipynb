{
  "metadata": {
    "kernelspec": {
      "display_name": "Python 3",
      "name": "python3"
    },
    "language_info": {
      "name": "python",
      "version": "3.10.14",
      "mimetype": "text/x-python",
      "codemirror_mode": {
        "name": "ipython",
        "version": 3
      },
      "pygments_lexer": "ipython3",
      "nbconvert_exporter": "python",
      "file_extension": ".py"
    },
    "kaggle": {
      "accelerator": "none",
      "dataSources": [
        {
          "sourceId": 9440976,
          "sourceType": "datasetVersion",
          "datasetId": 5737179
        }
      ],
      "isInternetEnabled": true,
      "language": "python",
      "sourceType": "notebook",
      "isGpuEnabled": false
    },
    "colab": {
      "provenance": [],
      "gpuType": "T4"
    },
    "accelerator": "GPU",
    "widgets": {
      "application/vnd.jupyter.widget-state+json": {
        "827d85cf379c493c974c8f59986fe694": {
          "model_module": "@jupyter-widgets/controls",
          "model_name": "HBoxModel",
          "model_module_version": "1.5.0",
          "state": {
            "_dom_classes": [],
            "_model_module": "@jupyter-widgets/controls",
            "_model_module_version": "1.5.0",
            "_model_name": "HBoxModel",
            "_view_count": null,
            "_view_module": "@jupyter-widgets/controls",
            "_view_module_version": "1.5.0",
            "_view_name": "HBoxView",
            "box_style": "",
            "children": [
              "IPY_MODEL_e0dcf19a4da94ea28df4f6daa005bbcf",
              "IPY_MODEL_36ade3534ae441b39e97c5ae152b0021",
              "IPY_MODEL_46c8b1b06c1646ae8ca19b417e60fd91"
            ],
            "layout": "IPY_MODEL_4de60750bb3a4541b75a99149621cfc4"
          }
        },
        "e0dcf19a4da94ea28df4f6daa005bbcf": {
          "model_module": "@jupyter-widgets/controls",
          "model_name": "HTMLModel",
          "model_module_version": "1.5.0",
          "state": {
            "_dom_classes": [],
            "_model_module": "@jupyter-widgets/controls",
            "_model_module_version": "1.5.0",
            "_model_name": "HTMLModel",
            "_view_count": null,
            "_view_module": "@jupyter-widgets/controls",
            "_view_module_version": "1.5.0",
            "_view_name": "HTMLView",
            "description": "",
            "description_tooltip": null,
            "layout": "IPY_MODEL_3ac5e9e009de4f2b9a2f13550fd11afa",
            "placeholder": "​",
            "style": "IPY_MODEL_2f5489b338eb44c5a3109fb0f69a3857",
            "value": "Map: 100%"
          }
        },
        "36ade3534ae441b39e97c5ae152b0021": {
          "model_module": "@jupyter-widgets/controls",
          "model_name": "FloatProgressModel",
          "model_module_version": "1.5.0",
          "state": {
            "_dom_classes": [],
            "_model_module": "@jupyter-widgets/controls",
            "_model_module_version": "1.5.0",
            "_model_name": "FloatProgressModel",
            "_view_count": null,
            "_view_module": "@jupyter-widgets/controls",
            "_view_module_version": "1.5.0",
            "_view_name": "ProgressView",
            "bar_style": "success",
            "description": "",
            "description_tooltip": null,
            "layout": "IPY_MODEL_4557e191639d409b91dbf87af80aac72",
            "max": 2570,
            "min": 0,
            "orientation": "horizontal",
            "style": "IPY_MODEL_3e0a1c62ea1a40bb82f64159c131c573",
            "value": 2570
          }
        },
        "46c8b1b06c1646ae8ca19b417e60fd91": {
          "model_module": "@jupyter-widgets/controls",
          "model_name": "HTMLModel",
          "model_module_version": "1.5.0",
          "state": {
            "_dom_classes": [],
            "_model_module": "@jupyter-widgets/controls",
            "_model_module_version": "1.5.0",
            "_model_name": "HTMLModel",
            "_view_count": null,
            "_view_module": "@jupyter-widgets/controls",
            "_view_module_version": "1.5.0",
            "_view_name": "HTMLView",
            "description": "",
            "description_tooltip": null,
            "layout": "IPY_MODEL_1f10814933e7417fbc67104a8413708e",
            "placeholder": "​",
            "style": "IPY_MODEL_1f260b753ca04f2b8909f48efb85c3b9",
            "value": " 2570/2570 [00:00&lt;00:00, 65702.17 examples/s]"
          }
        },
        "4de60750bb3a4541b75a99149621cfc4": {
          "model_module": "@jupyter-widgets/base",
          "model_name": "LayoutModel",
          "model_module_version": "1.2.0",
          "state": {
            "_model_module": "@jupyter-widgets/base",
            "_model_module_version": "1.2.0",
            "_model_name": "LayoutModel",
            "_view_count": null,
            "_view_module": "@jupyter-widgets/base",
            "_view_module_version": "1.2.0",
            "_view_name": "LayoutView",
            "align_content": null,
            "align_items": null,
            "align_self": null,
            "border": null,
            "bottom": null,
            "display": null,
            "flex": null,
            "flex_flow": null,
            "grid_area": null,
            "grid_auto_columns": null,
            "grid_auto_flow": null,
            "grid_auto_rows": null,
            "grid_column": null,
            "grid_gap": null,
            "grid_row": null,
            "grid_template_areas": null,
            "grid_template_columns": null,
            "grid_template_rows": null,
            "height": null,
            "justify_content": null,
            "justify_items": null,
            "left": null,
            "margin": null,
            "max_height": null,
            "max_width": null,
            "min_height": null,
            "min_width": null,
            "object_fit": null,
            "object_position": null,
            "order": null,
            "overflow": null,
            "overflow_x": null,
            "overflow_y": null,
            "padding": null,
            "right": null,
            "top": null,
            "visibility": null,
            "width": null
          }
        },
        "3ac5e9e009de4f2b9a2f13550fd11afa": {
          "model_module": "@jupyter-widgets/base",
          "model_name": "LayoutModel",
          "model_module_version": "1.2.0",
          "state": {
            "_model_module": "@jupyter-widgets/base",
            "_model_module_version": "1.2.0",
            "_model_name": "LayoutModel",
            "_view_count": null,
            "_view_module": "@jupyter-widgets/base",
            "_view_module_version": "1.2.0",
            "_view_name": "LayoutView",
            "align_content": null,
            "align_items": null,
            "align_self": null,
            "border": null,
            "bottom": null,
            "display": null,
            "flex": null,
            "flex_flow": null,
            "grid_area": null,
            "grid_auto_columns": null,
            "grid_auto_flow": null,
            "grid_auto_rows": null,
            "grid_column": null,
            "grid_gap": null,
            "grid_row": null,
            "grid_template_areas": null,
            "grid_template_columns": null,
            "grid_template_rows": null,
            "height": null,
            "justify_content": null,
            "justify_items": null,
            "left": null,
            "margin": null,
            "max_height": null,
            "max_width": null,
            "min_height": null,
            "min_width": null,
            "object_fit": null,
            "object_position": null,
            "order": null,
            "overflow": null,
            "overflow_x": null,
            "overflow_y": null,
            "padding": null,
            "right": null,
            "top": null,
            "visibility": null,
            "width": null
          }
        },
        "2f5489b338eb44c5a3109fb0f69a3857": {
          "model_module": "@jupyter-widgets/controls",
          "model_name": "DescriptionStyleModel",
          "model_module_version": "1.5.0",
          "state": {
            "_model_module": "@jupyter-widgets/controls",
            "_model_module_version": "1.5.0",
            "_model_name": "DescriptionStyleModel",
            "_view_count": null,
            "_view_module": "@jupyter-widgets/base",
            "_view_module_version": "1.2.0",
            "_view_name": "StyleView",
            "description_width": ""
          }
        },
        "4557e191639d409b91dbf87af80aac72": {
          "model_module": "@jupyter-widgets/base",
          "model_name": "LayoutModel",
          "model_module_version": "1.2.0",
          "state": {
            "_model_module": "@jupyter-widgets/base",
            "_model_module_version": "1.2.0",
            "_model_name": "LayoutModel",
            "_view_count": null,
            "_view_module": "@jupyter-widgets/base",
            "_view_module_version": "1.2.0",
            "_view_name": "LayoutView",
            "align_content": null,
            "align_items": null,
            "align_self": null,
            "border": null,
            "bottom": null,
            "display": null,
            "flex": null,
            "flex_flow": null,
            "grid_area": null,
            "grid_auto_columns": null,
            "grid_auto_flow": null,
            "grid_auto_rows": null,
            "grid_column": null,
            "grid_gap": null,
            "grid_row": null,
            "grid_template_areas": null,
            "grid_template_columns": null,
            "grid_template_rows": null,
            "height": null,
            "justify_content": null,
            "justify_items": null,
            "left": null,
            "margin": null,
            "max_height": null,
            "max_width": null,
            "min_height": null,
            "min_width": null,
            "object_fit": null,
            "object_position": null,
            "order": null,
            "overflow": null,
            "overflow_x": null,
            "overflow_y": null,
            "padding": null,
            "right": null,
            "top": null,
            "visibility": null,
            "width": null
          }
        },
        "3e0a1c62ea1a40bb82f64159c131c573": {
          "model_module": "@jupyter-widgets/controls",
          "model_name": "ProgressStyleModel",
          "model_module_version": "1.5.0",
          "state": {
            "_model_module": "@jupyter-widgets/controls",
            "_model_module_version": "1.5.0",
            "_model_name": "ProgressStyleModel",
            "_view_count": null,
            "_view_module": "@jupyter-widgets/base",
            "_view_module_version": "1.2.0",
            "_view_name": "StyleView",
            "bar_color": null,
            "description_width": ""
          }
        },
        "1f10814933e7417fbc67104a8413708e": {
          "model_module": "@jupyter-widgets/base",
          "model_name": "LayoutModel",
          "model_module_version": "1.2.0",
          "state": {
            "_model_module": "@jupyter-widgets/base",
            "_model_module_version": "1.2.0",
            "_model_name": "LayoutModel",
            "_view_count": null,
            "_view_module": "@jupyter-widgets/base",
            "_view_module_version": "1.2.0",
            "_view_name": "LayoutView",
            "align_content": null,
            "align_items": null,
            "align_self": null,
            "border": null,
            "bottom": null,
            "display": null,
            "flex": null,
            "flex_flow": null,
            "grid_area": null,
            "grid_auto_columns": null,
            "grid_auto_flow": null,
            "grid_auto_rows": null,
            "grid_column": null,
            "grid_gap": null,
            "grid_row": null,
            "grid_template_areas": null,
            "grid_template_columns": null,
            "grid_template_rows": null,
            "height": null,
            "justify_content": null,
            "justify_items": null,
            "left": null,
            "margin": null,
            "max_height": null,
            "max_width": null,
            "min_height": null,
            "min_width": null,
            "object_fit": null,
            "object_position": null,
            "order": null,
            "overflow": null,
            "overflow_x": null,
            "overflow_y": null,
            "padding": null,
            "right": null,
            "top": null,
            "visibility": null,
            "width": null
          }
        },
        "1f260b753ca04f2b8909f48efb85c3b9": {
          "model_module": "@jupyter-widgets/controls",
          "model_name": "DescriptionStyleModel",
          "model_module_version": "1.5.0",
          "state": {
            "_model_module": "@jupyter-widgets/controls",
            "_model_module_version": "1.5.0",
            "_model_name": "DescriptionStyleModel",
            "_view_count": null,
            "_view_module": "@jupyter-widgets/base",
            "_view_module_version": "1.2.0",
            "_view_name": "StyleView",
            "description_width": ""
          }
        },
        "a382cfed1f034bbc9b313eff6be58a52": {
          "model_module": "@jupyter-widgets/controls",
          "model_name": "HBoxModel",
          "model_module_version": "1.5.0",
          "state": {
            "_dom_classes": [],
            "_model_module": "@jupyter-widgets/controls",
            "_model_module_version": "1.5.0",
            "_model_name": "HBoxModel",
            "_view_count": null,
            "_view_module": "@jupyter-widgets/controls",
            "_view_module_version": "1.5.0",
            "_view_name": "HBoxView",
            "box_style": "",
            "children": [
              "IPY_MODEL_4fa39924f511439e98e3d89c076421f1",
              "IPY_MODEL_26b42f2b3330451e95af558fd6b45d87",
              "IPY_MODEL_8a322552d8994049aa02381b61f3e1c6"
            ],
            "layout": "IPY_MODEL_195dc953f73f48e0a97cf33eac840bfd"
          }
        },
        "4fa39924f511439e98e3d89c076421f1": {
          "model_module": "@jupyter-widgets/controls",
          "model_name": "HTMLModel",
          "model_module_version": "1.5.0",
          "state": {
            "_dom_classes": [],
            "_model_module": "@jupyter-widgets/controls",
            "_model_module_version": "1.5.0",
            "_model_name": "HTMLModel",
            "_view_count": null,
            "_view_module": "@jupyter-widgets/controls",
            "_view_module_version": "1.5.0",
            "_view_name": "HTMLView",
            "description": "",
            "description_tooltip": null,
            "layout": "IPY_MODEL_6c156a31184f41a6a249be1b46beebeb",
            "placeholder": "​",
            "style": "IPY_MODEL_4e9e2a72ad9b4443b54d93cba36289fe",
            "value": "Casting the dataset: 100%"
          }
        },
        "26b42f2b3330451e95af558fd6b45d87": {
          "model_module": "@jupyter-widgets/controls",
          "model_name": "FloatProgressModel",
          "model_module_version": "1.5.0",
          "state": {
            "_dom_classes": [],
            "_model_module": "@jupyter-widgets/controls",
            "_model_module_version": "1.5.0",
            "_model_name": "FloatProgressModel",
            "_view_count": null,
            "_view_module": "@jupyter-widgets/controls",
            "_view_module_version": "1.5.0",
            "_view_name": "ProgressView",
            "bar_style": "success",
            "description": "",
            "description_tooltip": null,
            "layout": "IPY_MODEL_0b50055799fa4494975a8f596dae5293",
            "max": 2570,
            "min": 0,
            "orientation": "horizontal",
            "style": "IPY_MODEL_b686d411f17049628888686bcacf7dff",
            "value": 2570
          }
        },
        "8a322552d8994049aa02381b61f3e1c6": {
          "model_module": "@jupyter-widgets/controls",
          "model_name": "HTMLModel",
          "model_module_version": "1.5.0",
          "state": {
            "_dom_classes": [],
            "_model_module": "@jupyter-widgets/controls",
            "_model_module_version": "1.5.0",
            "_model_name": "HTMLModel",
            "_view_count": null,
            "_view_module": "@jupyter-widgets/controls",
            "_view_module_version": "1.5.0",
            "_view_name": "HTMLView",
            "description": "",
            "description_tooltip": null,
            "layout": "IPY_MODEL_80888ae019d941c99ba56590f722e9a3",
            "placeholder": "​",
            "style": "IPY_MODEL_4deec818f90546179d0a8619bc8cbe50",
            "value": " 2570/2570 [00:00&lt;00:00, 108291.75 examples/s]"
          }
        },
        "195dc953f73f48e0a97cf33eac840bfd": {
          "model_module": "@jupyter-widgets/base",
          "model_name": "LayoutModel",
          "model_module_version": "1.2.0",
          "state": {
            "_model_module": "@jupyter-widgets/base",
            "_model_module_version": "1.2.0",
            "_model_name": "LayoutModel",
            "_view_count": null,
            "_view_module": "@jupyter-widgets/base",
            "_view_module_version": "1.2.0",
            "_view_name": "LayoutView",
            "align_content": null,
            "align_items": null,
            "align_self": null,
            "border": null,
            "bottom": null,
            "display": null,
            "flex": null,
            "flex_flow": null,
            "grid_area": null,
            "grid_auto_columns": null,
            "grid_auto_flow": null,
            "grid_auto_rows": null,
            "grid_column": null,
            "grid_gap": null,
            "grid_row": null,
            "grid_template_areas": null,
            "grid_template_columns": null,
            "grid_template_rows": null,
            "height": null,
            "justify_content": null,
            "justify_items": null,
            "left": null,
            "margin": null,
            "max_height": null,
            "max_width": null,
            "min_height": null,
            "min_width": null,
            "object_fit": null,
            "object_position": null,
            "order": null,
            "overflow": null,
            "overflow_x": null,
            "overflow_y": null,
            "padding": null,
            "right": null,
            "top": null,
            "visibility": null,
            "width": null
          }
        },
        "6c156a31184f41a6a249be1b46beebeb": {
          "model_module": "@jupyter-widgets/base",
          "model_name": "LayoutModel",
          "model_module_version": "1.2.0",
          "state": {
            "_model_module": "@jupyter-widgets/base",
            "_model_module_version": "1.2.0",
            "_model_name": "LayoutModel",
            "_view_count": null,
            "_view_module": "@jupyter-widgets/base",
            "_view_module_version": "1.2.0",
            "_view_name": "LayoutView",
            "align_content": null,
            "align_items": null,
            "align_self": null,
            "border": null,
            "bottom": null,
            "display": null,
            "flex": null,
            "flex_flow": null,
            "grid_area": null,
            "grid_auto_columns": null,
            "grid_auto_flow": null,
            "grid_auto_rows": null,
            "grid_column": null,
            "grid_gap": null,
            "grid_row": null,
            "grid_template_areas": null,
            "grid_template_columns": null,
            "grid_template_rows": null,
            "height": null,
            "justify_content": null,
            "justify_items": null,
            "left": null,
            "margin": null,
            "max_height": null,
            "max_width": null,
            "min_height": null,
            "min_width": null,
            "object_fit": null,
            "object_position": null,
            "order": null,
            "overflow": null,
            "overflow_x": null,
            "overflow_y": null,
            "padding": null,
            "right": null,
            "top": null,
            "visibility": null,
            "width": null
          }
        },
        "4e9e2a72ad9b4443b54d93cba36289fe": {
          "model_module": "@jupyter-widgets/controls",
          "model_name": "DescriptionStyleModel",
          "model_module_version": "1.5.0",
          "state": {
            "_model_module": "@jupyter-widgets/controls",
            "_model_module_version": "1.5.0",
            "_model_name": "DescriptionStyleModel",
            "_view_count": null,
            "_view_module": "@jupyter-widgets/base",
            "_view_module_version": "1.2.0",
            "_view_name": "StyleView",
            "description_width": ""
          }
        },
        "0b50055799fa4494975a8f596dae5293": {
          "model_module": "@jupyter-widgets/base",
          "model_name": "LayoutModel",
          "model_module_version": "1.2.0",
          "state": {
            "_model_module": "@jupyter-widgets/base",
            "_model_module_version": "1.2.0",
            "_model_name": "LayoutModel",
            "_view_count": null,
            "_view_module": "@jupyter-widgets/base",
            "_view_module_version": "1.2.0",
            "_view_name": "LayoutView",
            "align_content": null,
            "align_items": null,
            "align_self": null,
            "border": null,
            "bottom": null,
            "display": null,
            "flex": null,
            "flex_flow": null,
            "grid_area": null,
            "grid_auto_columns": null,
            "grid_auto_flow": null,
            "grid_auto_rows": null,
            "grid_column": null,
            "grid_gap": null,
            "grid_row": null,
            "grid_template_areas": null,
            "grid_template_columns": null,
            "grid_template_rows": null,
            "height": null,
            "justify_content": null,
            "justify_items": null,
            "left": null,
            "margin": null,
            "max_height": null,
            "max_width": null,
            "min_height": null,
            "min_width": null,
            "object_fit": null,
            "object_position": null,
            "order": null,
            "overflow": null,
            "overflow_x": null,
            "overflow_y": null,
            "padding": null,
            "right": null,
            "top": null,
            "visibility": null,
            "width": null
          }
        },
        "b686d411f17049628888686bcacf7dff": {
          "model_module": "@jupyter-widgets/controls",
          "model_name": "ProgressStyleModel",
          "model_module_version": "1.5.0",
          "state": {
            "_model_module": "@jupyter-widgets/controls",
            "_model_module_version": "1.5.0",
            "_model_name": "ProgressStyleModel",
            "_view_count": null,
            "_view_module": "@jupyter-widgets/base",
            "_view_module_version": "1.2.0",
            "_view_name": "StyleView",
            "bar_color": null,
            "description_width": ""
          }
        },
        "80888ae019d941c99ba56590f722e9a3": {
          "model_module": "@jupyter-widgets/base",
          "model_name": "LayoutModel",
          "model_module_version": "1.2.0",
          "state": {
            "_model_module": "@jupyter-widgets/base",
            "_model_module_version": "1.2.0",
            "_model_name": "LayoutModel",
            "_view_count": null,
            "_view_module": "@jupyter-widgets/base",
            "_view_module_version": "1.2.0",
            "_view_name": "LayoutView",
            "align_content": null,
            "align_items": null,
            "align_self": null,
            "border": null,
            "bottom": null,
            "display": null,
            "flex": null,
            "flex_flow": null,
            "grid_area": null,
            "grid_auto_columns": null,
            "grid_auto_flow": null,
            "grid_auto_rows": null,
            "grid_column": null,
            "grid_gap": null,
            "grid_row": null,
            "grid_template_areas": null,
            "grid_template_columns": null,
            "grid_template_rows": null,
            "height": null,
            "justify_content": null,
            "justify_items": null,
            "left": null,
            "margin": null,
            "max_height": null,
            "max_width": null,
            "min_height": null,
            "min_width": null,
            "object_fit": null,
            "object_position": null,
            "order": null,
            "overflow": null,
            "overflow_x": null,
            "overflow_y": null,
            "padding": null,
            "right": null,
            "top": null,
            "visibility": null,
            "width": null
          }
        },
        "4deec818f90546179d0a8619bc8cbe50": {
          "model_module": "@jupyter-widgets/controls",
          "model_name": "DescriptionStyleModel",
          "model_module_version": "1.5.0",
          "state": {
            "_model_module": "@jupyter-widgets/controls",
            "_model_module_version": "1.5.0",
            "_model_name": "DescriptionStyleModel",
            "_view_count": null,
            "_view_module": "@jupyter-widgets/base",
            "_view_module_version": "1.2.0",
            "_view_name": "StyleView",
            "description_width": ""
          }
        },
        "9d2cfa2107f74fb1a4174232ab2f7c00": {
          "model_module": "@jupyter-widgets/controls",
          "model_name": "HBoxModel",
          "model_module_version": "1.5.0",
          "state": {
            "_dom_classes": [],
            "_model_module": "@jupyter-widgets/controls",
            "_model_module_version": "1.5.0",
            "_model_name": "HBoxModel",
            "_view_count": null,
            "_view_module": "@jupyter-widgets/controls",
            "_view_module_version": "1.5.0",
            "_view_name": "HBoxView",
            "box_style": "",
            "children": [
              "IPY_MODEL_eb4e8f95cbd44144aa697d5c35514d05",
              "IPY_MODEL_7d92a15eb3254e689aac0c6f619b7db7",
              "IPY_MODEL_58dfd790f4c74be0a033342835bcb8f1"
            ],
            "layout": "IPY_MODEL_f147dcebbcd8492bb0e7e96b66a54e33"
          }
        },
        "eb4e8f95cbd44144aa697d5c35514d05": {
          "model_module": "@jupyter-widgets/controls",
          "model_name": "HTMLModel",
          "model_module_version": "1.5.0",
          "state": {
            "_dom_classes": [],
            "_model_module": "@jupyter-widgets/controls",
            "_model_module_version": "1.5.0",
            "_model_name": "HTMLModel",
            "_view_count": null,
            "_view_module": "@jupyter-widgets/controls",
            "_view_module_version": "1.5.0",
            "_view_name": "HTMLView",
            "description": "",
            "description_tooltip": null,
            "layout": "IPY_MODEL_301841398f5441dd9fc031c3d2baad55",
            "placeholder": "​",
            "style": "IPY_MODEL_37ce5dabb9494a45b63b020efe5841c7",
            "value": "preprocessor_config.json: 100%"
          }
        },
        "7d92a15eb3254e689aac0c6f619b7db7": {
          "model_module": "@jupyter-widgets/controls",
          "model_name": "FloatProgressModel",
          "model_module_version": "1.5.0",
          "state": {
            "_dom_classes": [],
            "_model_module": "@jupyter-widgets/controls",
            "_model_module_version": "1.5.0",
            "_model_name": "FloatProgressModel",
            "_view_count": null,
            "_view_module": "@jupyter-widgets/controls",
            "_view_module_version": "1.5.0",
            "_view_name": "ProgressView",
            "bar_style": "success",
            "description": "",
            "description_tooltip": null,
            "layout": "IPY_MODEL_9df7607fe8ba46a8a79c0c34b6847046",
            "max": 160,
            "min": 0,
            "orientation": "horizontal",
            "style": "IPY_MODEL_bf2dddc2a3244fe58eca68e3f8aecb0b",
            "value": 160
          }
        },
        "58dfd790f4c74be0a033342835bcb8f1": {
          "model_module": "@jupyter-widgets/controls",
          "model_name": "HTMLModel",
          "model_module_version": "1.5.0",
          "state": {
            "_dom_classes": [],
            "_model_module": "@jupyter-widgets/controls",
            "_model_module_version": "1.5.0",
            "_model_name": "HTMLModel",
            "_view_count": null,
            "_view_module": "@jupyter-widgets/controls",
            "_view_module_version": "1.5.0",
            "_view_name": "HTMLView",
            "description": "",
            "description_tooltip": null,
            "layout": "IPY_MODEL_5ee51999c9b2493c86e40c1d67af17bf",
            "placeholder": "​",
            "style": "IPY_MODEL_0b0c645891884bc98b8582ec7623c67b",
            "value": " 160/160 [00:00&lt;00:00, 4.09kB/s]"
          }
        },
        "f147dcebbcd8492bb0e7e96b66a54e33": {
          "model_module": "@jupyter-widgets/base",
          "model_name": "LayoutModel",
          "model_module_version": "1.2.0",
          "state": {
            "_model_module": "@jupyter-widgets/base",
            "_model_module_version": "1.2.0",
            "_model_name": "LayoutModel",
            "_view_count": null,
            "_view_module": "@jupyter-widgets/base",
            "_view_module_version": "1.2.0",
            "_view_name": "LayoutView",
            "align_content": null,
            "align_items": null,
            "align_self": null,
            "border": null,
            "bottom": null,
            "display": null,
            "flex": null,
            "flex_flow": null,
            "grid_area": null,
            "grid_auto_columns": null,
            "grid_auto_flow": null,
            "grid_auto_rows": null,
            "grid_column": null,
            "grid_gap": null,
            "grid_row": null,
            "grid_template_areas": null,
            "grid_template_columns": null,
            "grid_template_rows": null,
            "height": null,
            "justify_content": null,
            "justify_items": null,
            "left": null,
            "margin": null,
            "max_height": null,
            "max_width": null,
            "min_height": null,
            "min_width": null,
            "object_fit": null,
            "object_position": null,
            "order": null,
            "overflow": null,
            "overflow_x": null,
            "overflow_y": null,
            "padding": null,
            "right": null,
            "top": null,
            "visibility": null,
            "width": null
          }
        },
        "301841398f5441dd9fc031c3d2baad55": {
          "model_module": "@jupyter-widgets/base",
          "model_name": "LayoutModel",
          "model_module_version": "1.2.0",
          "state": {
            "_model_module": "@jupyter-widgets/base",
            "_model_module_version": "1.2.0",
            "_model_name": "LayoutModel",
            "_view_count": null,
            "_view_module": "@jupyter-widgets/base",
            "_view_module_version": "1.2.0",
            "_view_name": "LayoutView",
            "align_content": null,
            "align_items": null,
            "align_self": null,
            "border": null,
            "bottom": null,
            "display": null,
            "flex": null,
            "flex_flow": null,
            "grid_area": null,
            "grid_auto_columns": null,
            "grid_auto_flow": null,
            "grid_auto_rows": null,
            "grid_column": null,
            "grid_gap": null,
            "grid_row": null,
            "grid_template_areas": null,
            "grid_template_columns": null,
            "grid_template_rows": null,
            "height": null,
            "justify_content": null,
            "justify_items": null,
            "left": null,
            "margin": null,
            "max_height": null,
            "max_width": null,
            "min_height": null,
            "min_width": null,
            "object_fit": null,
            "object_position": null,
            "order": null,
            "overflow": null,
            "overflow_x": null,
            "overflow_y": null,
            "padding": null,
            "right": null,
            "top": null,
            "visibility": null,
            "width": null
          }
        },
        "37ce5dabb9494a45b63b020efe5841c7": {
          "model_module": "@jupyter-widgets/controls",
          "model_name": "DescriptionStyleModel",
          "model_module_version": "1.5.0",
          "state": {
            "_model_module": "@jupyter-widgets/controls",
            "_model_module_version": "1.5.0",
            "_model_name": "DescriptionStyleModel",
            "_view_count": null,
            "_view_module": "@jupyter-widgets/base",
            "_view_module_version": "1.2.0",
            "_view_name": "StyleView",
            "description_width": ""
          }
        },
        "9df7607fe8ba46a8a79c0c34b6847046": {
          "model_module": "@jupyter-widgets/base",
          "model_name": "LayoutModel",
          "model_module_version": "1.2.0",
          "state": {
            "_model_module": "@jupyter-widgets/base",
            "_model_module_version": "1.2.0",
            "_model_name": "LayoutModel",
            "_view_count": null,
            "_view_module": "@jupyter-widgets/base",
            "_view_module_version": "1.2.0",
            "_view_name": "LayoutView",
            "align_content": null,
            "align_items": null,
            "align_self": null,
            "border": null,
            "bottom": null,
            "display": null,
            "flex": null,
            "flex_flow": null,
            "grid_area": null,
            "grid_auto_columns": null,
            "grid_auto_flow": null,
            "grid_auto_rows": null,
            "grid_column": null,
            "grid_gap": null,
            "grid_row": null,
            "grid_template_areas": null,
            "grid_template_columns": null,
            "grid_template_rows": null,
            "height": null,
            "justify_content": null,
            "justify_items": null,
            "left": null,
            "margin": null,
            "max_height": null,
            "max_width": null,
            "min_height": null,
            "min_width": null,
            "object_fit": null,
            "object_position": null,
            "order": null,
            "overflow": null,
            "overflow_x": null,
            "overflow_y": null,
            "padding": null,
            "right": null,
            "top": null,
            "visibility": null,
            "width": null
          }
        },
        "bf2dddc2a3244fe58eca68e3f8aecb0b": {
          "model_module": "@jupyter-widgets/controls",
          "model_name": "ProgressStyleModel",
          "model_module_version": "1.5.0",
          "state": {
            "_model_module": "@jupyter-widgets/controls",
            "_model_module_version": "1.5.0",
            "_model_name": "ProgressStyleModel",
            "_view_count": null,
            "_view_module": "@jupyter-widgets/base",
            "_view_module_version": "1.2.0",
            "_view_name": "StyleView",
            "bar_color": null,
            "description_width": ""
          }
        },
        "5ee51999c9b2493c86e40c1d67af17bf": {
          "model_module": "@jupyter-widgets/base",
          "model_name": "LayoutModel",
          "model_module_version": "1.2.0",
          "state": {
            "_model_module": "@jupyter-widgets/base",
            "_model_module_version": "1.2.0",
            "_model_name": "LayoutModel",
            "_view_count": null,
            "_view_module": "@jupyter-widgets/base",
            "_view_module_version": "1.2.0",
            "_view_name": "LayoutView",
            "align_content": null,
            "align_items": null,
            "align_self": null,
            "border": null,
            "bottom": null,
            "display": null,
            "flex": null,
            "flex_flow": null,
            "grid_area": null,
            "grid_auto_columns": null,
            "grid_auto_flow": null,
            "grid_auto_rows": null,
            "grid_column": null,
            "grid_gap": null,
            "grid_row": null,
            "grid_template_areas": null,
            "grid_template_columns": null,
            "grid_template_rows": null,
            "height": null,
            "justify_content": null,
            "justify_items": null,
            "left": null,
            "margin": null,
            "max_height": null,
            "max_width": null,
            "min_height": null,
            "min_width": null,
            "object_fit": null,
            "object_position": null,
            "order": null,
            "overflow": null,
            "overflow_x": null,
            "overflow_y": null,
            "padding": null,
            "right": null,
            "top": null,
            "visibility": null,
            "width": null
          }
        },
        "0b0c645891884bc98b8582ec7623c67b": {
          "model_module": "@jupyter-widgets/controls",
          "model_name": "DescriptionStyleModel",
          "model_module_version": "1.5.0",
          "state": {
            "_model_module": "@jupyter-widgets/controls",
            "_model_module_version": "1.5.0",
            "_model_name": "DescriptionStyleModel",
            "_view_count": null,
            "_view_module": "@jupyter-widgets/base",
            "_view_module_version": "1.2.0",
            "_view_name": "StyleView",
            "description_width": ""
          }
        },
        "380f8420f24041f7afa36ed889bd3fb8": {
          "model_module": "@jupyter-widgets/controls",
          "model_name": "HBoxModel",
          "model_module_version": "1.5.0",
          "state": {
            "_dom_classes": [],
            "_model_module": "@jupyter-widgets/controls",
            "_model_module_version": "1.5.0",
            "_model_name": "HBoxModel",
            "_view_count": null,
            "_view_module": "@jupyter-widgets/controls",
            "_view_module_version": "1.5.0",
            "_view_name": "HBoxView",
            "box_style": "",
            "children": [
              "IPY_MODEL_f9dbb4f0e7d948859d8e75771387da31",
              "IPY_MODEL_b568ae50c86c4b08acf5353b6b5ebffc",
              "IPY_MODEL_5e91d36d4c3440e6a87491a395f235e5"
            ],
            "layout": "IPY_MODEL_ff465f61cfac464084c37cb3103b6777"
          }
        },
        "f9dbb4f0e7d948859d8e75771387da31": {
          "model_module": "@jupyter-widgets/controls",
          "model_name": "HTMLModel",
          "model_module_version": "1.5.0",
          "state": {
            "_dom_classes": [],
            "_model_module": "@jupyter-widgets/controls",
            "_model_module_version": "1.5.0",
            "_model_name": "HTMLModel",
            "_view_count": null,
            "_view_module": "@jupyter-widgets/controls",
            "_view_module_version": "1.5.0",
            "_view_name": "HTMLView",
            "description": "",
            "description_tooltip": null,
            "layout": "IPY_MODEL_55e1de3a2d3e488081dfdbe8ff528012",
            "placeholder": "​",
            "style": "IPY_MODEL_9f867a12a9224d868333dc1760fe3ac6",
            "value": "config.json: 100%"
          }
        },
        "b568ae50c86c4b08acf5353b6b5ebffc": {
          "model_module": "@jupyter-widgets/controls",
          "model_name": "FloatProgressModel",
          "model_module_version": "1.5.0",
          "state": {
            "_dom_classes": [],
            "_model_module": "@jupyter-widgets/controls",
            "_model_module_version": "1.5.0",
            "_model_name": "FloatProgressModel",
            "_view_count": null,
            "_view_module": "@jupyter-widgets/controls",
            "_view_module_version": "1.5.0",
            "_view_name": "ProgressView",
            "bar_style": "success",
            "description": "",
            "description_tooltip": null,
            "layout": "IPY_MODEL_61779f8a3e8345dfb6b8c107cebf2375",
            "max": 502,
            "min": 0,
            "orientation": "horizontal",
            "style": "IPY_MODEL_a96ec203b3334976b732bd92032363b1",
            "value": 502
          }
        },
        "5e91d36d4c3440e6a87491a395f235e5": {
          "model_module": "@jupyter-widgets/controls",
          "model_name": "HTMLModel",
          "model_module_version": "1.5.0",
          "state": {
            "_dom_classes": [],
            "_model_module": "@jupyter-widgets/controls",
            "_model_module_version": "1.5.0",
            "_model_name": "HTMLModel",
            "_view_count": null,
            "_view_module": "@jupyter-widgets/controls",
            "_view_module_version": "1.5.0",
            "_view_name": "HTMLView",
            "description": "",
            "description_tooltip": null,
            "layout": "IPY_MODEL_cea149204bf54ef281f3a77537cafa6e",
            "placeholder": "​",
            "style": "IPY_MODEL_23b1e98fb1d04dfabe7d504dd4f0cba1",
            "value": " 502/502 [00:00&lt;00:00, 7.45kB/s]"
          }
        },
        "ff465f61cfac464084c37cb3103b6777": {
          "model_module": "@jupyter-widgets/base",
          "model_name": "LayoutModel",
          "model_module_version": "1.2.0",
          "state": {
            "_model_module": "@jupyter-widgets/base",
            "_model_module_version": "1.2.0",
            "_model_name": "LayoutModel",
            "_view_count": null,
            "_view_module": "@jupyter-widgets/base",
            "_view_module_version": "1.2.0",
            "_view_name": "LayoutView",
            "align_content": null,
            "align_items": null,
            "align_self": null,
            "border": null,
            "bottom": null,
            "display": null,
            "flex": null,
            "flex_flow": null,
            "grid_area": null,
            "grid_auto_columns": null,
            "grid_auto_flow": null,
            "grid_auto_rows": null,
            "grid_column": null,
            "grid_gap": null,
            "grid_row": null,
            "grid_template_areas": null,
            "grid_template_columns": null,
            "grid_template_rows": null,
            "height": null,
            "justify_content": null,
            "justify_items": null,
            "left": null,
            "margin": null,
            "max_height": null,
            "max_width": null,
            "min_height": null,
            "min_width": null,
            "object_fit": null,
            "object_position": null,
            "order": null,
            "overflow": null,
            "overflow_x": null,
            "overflow_y": null,
            "padding": null,
            "right": null,
            "top": null,
            "visibility": null,
            "width": null
          }
        },
        "55e1de3a2d3e488081dfdbe8ff528012": {
          "model_module": "@jupyter-widgets/base",
          "model_name": "LayoutModel",
          "model_module_version": "1.2.0",
          "state": {
            "_model_module": "@jupyter-widgets/base",
            "_model_module_version": "1.2.0",
            "_model_name": "LayoutModel",
            "_view_count": null,
            "_view_module": "@jupyter-widgets/base",
            "_view_module_version": "1.2.0",
            "_view_name": "LayoutView",
            "align_content": null,
            "align_items": null,
            "align_self": null,
            "border": null,
            "bottom": null,
            "display": null,
            "flex": null,
            "flex_flow": null,
            "grid_area": null,
            "grid_auto_columns": null,
            "grid_auto_flow": null,
            "grid_auto_rows": null,
            "grid_column": null,
            "grid_gap": null,
            "grid_row": null,
            "grid_template_areas": null,
            "grid_template_columns": null,
            "grid_template_rows": null,
            "height": null,
            "justify_content": null,
            "justify_items": null,
            "left": null,
            "margin": null,
            "max_height": null,
            "max_width": null,
            "min_height": null,
            "min_width": null,
            "object_fit": null,
            "object_position": null,
            "order": null,
            "overflow": null,
            "overflow_x": null,
            "overflow_y": null,
            "padding": null,
            "right": null,
            "top": null,
            "visibility": null,
            "width": null
          }
        },
        "9f867a12a9224d868333dc1760fe3ac6": {
          "model_module": "@jupyter-widgets/controls",
          "model_name": "DescriptionStyleModel",
          "model_module_version": "1.5.0",
          "state": {
            "_model_module": "@jupyter-widgets/controls",
            "_model_module_version": "1.5.0",
            "_model_name": "DescriptionStyleModel",
            "_view_count": null,
            "_view_module": "@jupyter-widgets/base",
            "_view_module_version": "1.2.0",
            "_view_name": "StyleView",
            "description_width": ""
          }
        },
        "61779f8a3e8345dfb6b8c107cebf2375": {
          "model_module": "@jupyter-widgets/base",
          "model_name": "LayoutModel",
          "model_module_version": "1.2.0",
          "state": {
            "_model_module": "@jupyter-widgets/base",
            "_model_module_version": "1.2.0",
            "_model_name": "LayoutModel",
            "_view_count": null,
            "_view_module": "@jupyter-widgets/base",
            "_view_module_version": "1.2.0",
            "_view_name": "LayoutView",
            "align_content": null,
            "align_items": null,
            "align_self": null,
            "border": null,
            "bottom": null,
            "display": null,
            "flex": null,
            "flex_flow": null,
            "grid_area": null,
            "grid_auto_columns": null,
            "grid_auto_flow": null,
            "grid_auto_rows": null,
            "grid_column": null,
            "grid_gap": null,
            "grid_row": null,
            "grid_template_areas": null,
            "grid_template_columns": null,
            "grid_template_rows": null,
            "height": null,
            "justify_content": null,
            "justify_items": null,
            "left": null,
            "margin": null,
            "max_height": null,
            "max_width": null,
            "min_height": null,
            "min_width": null,
            "object_fit": null,
            "object_position": null,
            "order": null,
            "overflow": null,
            "overflow_x": null,
            "overflow_y": null,
            "padding": null,
            "right": null,
            "top": null,
            "visibility": null,
            "width": null
          }
        },
        "a96ec203b3334976b732bd92032363b1": {
          "model_module": "@jupyter-widgets/controls",
          "model_name": "ProgressStyleModel",
          "model_module_version": "1.5.0",
          "state": {
            "_model_module": "@jupyter-widgets/controls",
            "_model_module_version": "1.5.0",
            "_model_name": "ProgressStyleModel",
            "_view_count": null,
            "_view_module": "@jupyter-widgets/base",
            "_view_module_version": "1.2.0",
            "_view_name": "StyleView",
            "bar_color": null,
            "description_width": ""
          }
        },
        "cea149204bf54ef281f3a77537cafa6e": {
          "model_module": "@jupyter-widgets/base",
          "model_name": "LayoutModel",
          "model_module_version": "1.2.0",
          "state": {
            "_model_module": "@jupyter-widgets/base",
            "_model_module_version": "1.2.0",
            "_model_name": "LayoutModel",
            "_view_count": null,
            "_view_module": "@jupyter-widgets/base",
            "_view_module_version": "1.2.0",
            "_view_name": "LayoutView",
            "align_content": null,
            "align_items": null,
            "align_self": null,
            "border": null,
            "bottom": null,
            "display": null,
            "flex": null,
            "flex_flow": null,
            "grid_area": null,
            "grid_auto_columns": null,
            "grid_auto_flow": null,
            "grid_auto_rows": null,
            "grid_column": null,
            "grid_gap": null,
            "grid_row": null,
            "grid_template_areas": null,
            "grid_template_columns": null,
            "grid_template_rows": null,
            "height": null,
            "justify_content": null,
            "justify_items": null,
            "left": null,
            "margin": null,
            "max_height": null,
            "max_width": null,
            "min_height": null,
            "min_width": null,
            "object_fit": null,
            "object_position": null,
            "order": null,
            "overflow": null,
            "overflow_x": null,
            "overflow_y": null,
            "padding": null,
            "right": null,
            "top": null,
            "visibility": null,
            "width": null
          }
        },
        "23b1e98fb1d04dfabe7d504dd4f0cba1": {
          "model_module": "@jupyter-widgets/controls",
          "model_name": "DescriptionStyleModel",
          "model_module_version": "1.5.0",
          "state": {
            "_model_module": "@jupyter-widgets/controls",
            "_model_module_version": "1.5.0",
            "_model_name": "DescriptionStyleModel",
            "_view_count": null,
            "_view_module": "@jupyter-widgets/base",
            "_view_module_version": "1.2.0",
            "_view_name": "StyleView",
            "description_width": ""
          }
        },
        "7667f2f4231b45b4a221cad87a379f20": {
          "model_module": "@jupyter-widgets/controls",
          "model_name": "HBoxModel",
          "model_module_version": "1.5.0",
          "state": {
            "_dom_classes": [],
            "_model_module": "@jupyter-widgets/controls",
            "_model_module_version": "1.5.0",
            "_model_name": "HBoxModel",
            "_view_count": null,
            "_view_module": "@jupyter-widgets/controls",
            "_view_module_version": "1.5.0",
            "_view_name": "HBoxView",
            "box_style": "",
            "children": [
              "IPY_MODEL_81577e7bcb874020b4b5803413614385",
              "IPY_MODEL_032734298a2644a6af1f61efab1f76c7",
              "IPY_MODEL_abbc420d4c9044b883fc1f0d5f8e44ec"
            ],
            "layout": "IPY_MODEL_45db1321916741a693011b652dde406f"
          }
        },
        "81577e7bcb874020b4b5803413614385": {
          "model_module": "@jupyter-widgets/controls",
          "model_name": "HTMLModel",
          "model_module_version": "1.5.0",
          "state": {
            "_dom_classes": [],
            "_model_module": "@jupyter-widgets/controls",
            "_model_module_version": "1.5.0",
            "_model_name": "HTMLModel",
            "_view_count": null,
            "_view_module": "@jupyter-widgets/controls",
            "_view_module_version": "1.5.0",
            "_view_name": "HTMLView",
            "description": "",
            "description_tooltip": null,
            "layout": "IPY_MODEL_0f06fdcad21b43da90fa66a0fa9294d7",
            "placeholder": "​",
            "style": "IPY_MODEL_e77c5bd048f74a198ad788199f661094",
            "value": "model.safetensors: 100%"
          }
        },
        "032734298a2644a6af1f61efab1f76c7": {
          "model_module": "@jupyter-widgets/controls",
          "model_name": "FloatProgressModel",
          "model_module_version": "1.5.0",
          "state": {
            "_dom_classes": [],
            "_model_module": "@jupyter-widgets/controls",
            "_model_module_version": "1.5.0",
            "_model_name": "FloatProgressModel",
            "_view_count": null,
            "_view_module": "@jupyter-widgets/controls",
            "_view_module_version": "1.5.0",
            "_view_name": "ProgressView",
            "bar_style": "success",
            "description": "",
            "description_tooltip": null,
            "layout": "IPY_MODEL_52dc0b859ebb40e8beb5c2ffcbfb5fbc",
            "max": 345579424,
            "min": 0,
            "orientation": "horizontal",
            "style": "IPY_MODEL_60c6e09f1c2343e28519683f502709a1",
            "value": 345579424
          }
        },
        "abbc420d4c9044b883fc1f0d5f8e44ec": {
          "model_module": "@jupyter-widgets/controls",
          "model_name": "HTMLModel",
          "model_module_version": "1.5.0",
          "state": {
            "_dom_classes": [],
            "_model_module": "@jupyter-widgets/controls",
            "_model_module_version": "1.5.0",
            "_model_name": "HTMLModel",
            "_view_count": null,
            "_view_module": "@jupyter-widgets/controls",
            "_view_module_version": "1.5.0",
            "_view_name": "HTMLView",
            "description": "",
            "description_tooltip": null,
            "layout": "IPY_MODEL_75bf774d50be45948a9399dd61197b71",
            "placeholder": "​",
            "style": "IPY_MODEL_1165ae55b60e4b55b7d41a4ca2a6ad10",
            "value": " 346M/346M [00:03&lt;00:00, 124MB/s]"
          }
        },
        "45db1321916741a693011b652dde406f": {
          "model_module": "@jupyter-widgets/base",
          "model_name": "LayoutModel",
          "model_module_version": "1.2.0",
          "state": {
            "_model_module": "@jupyter-widgets/base",
            "_model_module_version": "1.2.0",
            "_model_name": "LayoutModel",
            "_view_count": null,
            "_view_module": "@jupyter-widgets/base",
            "_view_module_version": "1.2.0",
            "_view_name": "LayoutView",
            "align_content": null,
            "align_items": null,
            "align_self": null,
            "border": null,
            "bottom": null,
            "display": null,
            "flex": null,
            "flex_flow": null,
            "grid_area": null,
            "grid_auto_columns": null,
            "grid_auto_flow": null,
            "grid_auto_rows": null,
            "grid_column": null,
            "grid_gap": null,
            "grid_row": null,
            "grid_template_areas": null,
            "grid_template_columns": null,
            "grid_template_rows": null,
            "height": null,
            "justify_content": null,
            "justify_items": null,
            "left": null,
            "margin": null,
            "max_height": null,
            "max_width": null,
            "min_height": null,
            "min_width": null,
            "object_fit": null,
            "object_position": null,
            "order": null,
            "overflow": null,
            "overflow_x": null,
            "overflow_y": null,
            "padding": null,
            "right": null,
            "top": null,
            "visibility": null,
            "width": null
          }
        },
        "0f06fdcad21b43da90fa66a0fa9294d7": {
          "model_module": "@jupyter-widgets/base",
          "model_name": "LayoutModel",
          "model_module_version": "1.2.0",
          "state": {
            "_model_module": "@jupyter-widgets/base",
            "_model_module_version": "1.2.0",
            "_model_name": "LayoutModel",
            "_view_count": null,
            "_view_module": "@jupyter-widgets/base",
            "_view_module_version": "1.2.0",
            "_view_name": "LayoutView",
            "align_content": null,
            "align_items": null,
            "align_self": null,
            "border": null,
            "bottom": null,
            "display": null,
            "flex": null,
            "flex_flow": null,
            "grid_area": null,
            "grid_auto_columns": null,
            "grid_auto_flow": null,
            "grid_auto_rows": null,
            "grid_column": null,
            "grid_gap": null,
            "grid_row": null,
            "grid_template_areas": null,
            "grid_template_columns": null,
            "grid_template_rows": null,
            "height": null,
            "justify_content": null,
            "justify_items": null,
            "left": null,
            "margin": null,
            "max_height": null,
            "max_width": null,
            "min_height": null,
            "min_width": null,
            "object_fit": null,
            "object_position": null,
            "order": null,
            "overflow": null,
            "overflow_x": null,
            "overflow_y": null,
            "padding": null,
            "right": null,
            "top": null,
            "visibility": null,
            "width": null
          }
        },
        "e77c5bd048f74a198ad788199f661094": {
          "model_module": "@jupyter-widgets/controls",
          "model_name": "DescriptionStyleModel",
          "model_module_version": "1.5.0",
          "state": {
            "_model_module": "@jupyter-widgets/controls",
            "_model_module_version": "1.5.0",
            "_model_name": "DescriptionStyleModel",
            "_view_count": null,
            "_view_module": "@jupyter-widgets/base",
            "_view_module_version": "1.2.0",
            "_view_name": "StyleView",
            "description_width": ""
          }
        },
        "52dc0b859ebb40e8beb5c2ffcbfb5fbc": {
          "model_module": "@jupyter-widgets/base",
          "model_name": "LayoutModel",
          "model_module_version": "1.2.0",
          "state": {
            "_model_module": "@jupyter-widgets/base",
            "_model_module_version": "1.2.0",
            "_model_name": "LayoutModel",
            "_view_count": null,
            "_view_module": "@jupyter-widgets/base",
            "_view_module_version": "1.2.0",
            "_view_name": "LayoutView",
            "align_content": null,
            "align_items": null,
            "align_self": null,
            "border": null,
            "bottom": null,
            "display": null,
            "flex": null,
            "flex_flow": null,
            "grid_area": null,
            "grid_auto_columns": null,
            "grid_auto_flow": null,
            "grid_auto_rows": null,
            "grid_column": null,
            "grid_gap": null,
            "grid_row": null,
            "grid_template_areas": null,
            "grid_template_columns": null,
            "grid_template_rows": null,
            "height": null,
            "justify_content": null,
            "justify_items": null,
            "left": null,
            "margin": null,
            "max_height": null,
            "max_width": null,
            "min_height": null,
            "min_width": null,
            "object_fit": null,
            "object_position": null,
            "order": null,
            "overflow": null,
            "overflow_x": null,
            "overflow_y": null,
            "padding": null,
            "right": null,
            "top": null,
            "visibility": null,
            "width": null
          }
        },
        "60c6e09f1c2343e28519683f502709a1": {
          "model_module": "@jupyter-widgets/controls",
          "model_name": "ProgressStyleModel",
          "model_module_version": "1.5.0",
          "state": {
            "_model_module": "@jupyter-widgets/controls",
            "_model_module_version": "1.5.0",
            "_model_name": "ProgressStyleModel",
            "_view_count": null,
            "_view_module": "@jupyter-widgets/base",
            "_view_module_version": "1.2.0",
            "_view_name": "StyleView",
            "bar_color": null,
            "description_width": ""
          }
        },
        "75bf774d50be45948a9399dd61197b71": {
          "model_module": "@jupyter-widgets/base",
          "model_name": "LayoutModel",
          "model_module_version": "1.2.0",
          "state": {
            "_model_module": "@jupyter-widgets/base",
            "_model_module_version": "1.2.0",
            "_model_name": "LayoutModel",
            "_view_count": null,
            "_view_module": "@jupyter-widgets/base",
            "_view_module_version": "1.2.0",
            "_view_name": "LayoutView",
            "align_content": null,
            "align_items": null,
            "align_self": null,
            "border": null,
            "bottom": null,
            "display": null,
            "flex": null,
            "flex_flow": null,
            "grid_area": null,
            "grid_auto_columns": null,
            "grid_auto_flow": null,
            "grid_auto_rows": null,
            "grid_column": null,
            "grid_gap": null,
            "grid_row": null,
            "grid_template_areas": null,
            "grid_template_columns": null,
            "grid_template_rows": null,
            "height": null,
            "justify_content": null,
            "justify_items": null,
            "left": null,
            "margin": null,
            "max_height": null,
            "max_width": null,
            "min_height": null,
            "min_width": null,
            "object_fit": null,
            "object_position": null,
            "order": null,
            "overflow": null,
            "overflow_x": null,
            "overflow_y": null,
            "padding": null,
            "right": null,
            "top": null,
            "visibility": null,
            "width": null
          }
        },
        "1165ae55b60e4b55b7d41a4ca2a6ad10": {
          "model_module": "@jupyter-widgets/controls",
          "model_name": "DescriptionStyleModel",
          "model_module_version": "1.5.0",
          "state": {
            "_model_module": "@jupyter-widgets/controls",
            "_model_module_version": "1.5.0",
            "_model_name": "DescriptionStyleModel",
            "_view_count": null,
            "_view_module": "@jupyter-widgets/base",
            "_view_module_version": "1.2.0",
            "_view_name": "StyleView",
            "description_width": ""
          }
        },
        "a6cd1cd42e4143bb9063bb0ad0eadde4": {
          "model_module": "@jupyter-widgets/controls",
          "model_name": "HBoxModel",
          "model_module_version": "1.5.0",
          "state": {
            "_dom_classes": [],
            "_model_module": "@jupyter-widgets/controls",
            "_model_module_version": "1.5.0",
            "_model_name": "HBoxModel",
            "_view_count": null,
            "_view_module": "@jupyter-widgets/controls",
            "_view_module_version": "1.5.0",
            "_view_name": "HBoxView",
            "box_style": "",
            "children": [
              "IPY_MODEL_49ca967502914f3eb99203e2a6464894",
              "IPY_MODEL_9afc64f835ca46c090d655953bf30663",
              "IPY_MODEL_f284b3e950c146e18db09208f40c099f"
            ],
            "layout": "IPY_MODEL_08447ccb6021474a9029bfe7901e2e51"
          }
        },
        "49ca967502914f3eb99203e2a6464894": {
          "model_module": "@jupyter-widgets/controls",
          "model_name": "HTMLModel",
          "model_module_version": "1.5.0",
          "state": {
            "_dom_classes": [],
            "_model_module": "@jupyter-widgets/controls",
            "_model_module_version": "1.5.0",
            "_model_name": "HTMLModel",
            "_view_count": null,
            "_view_module": "@jupyter-widgets/controls",
            "_view_module_version": "1.5.0",
            "_view_name": "HTMLView",
            "description": "",
            "description_tooltip": null,
            "layout": "IPY_MODEL_5d0b842ce7834179a4955dbe2ea520b9",
            "placeholder": "​",
            "style": "IPY_MODEL_b31330480fe14177968a9571bd14205b",
            "value": "Downloading builder script: 100%"
          }
        },
        "9afc64f835ca46c090d655953bf30663": {
          "model_module": "@jupyter-widgets/controls",
          "model_name": "FloatProgressModel",
          "model_module_version": "1.5.0",
          "state": {
            "_dom_classes": [],
            "_model_module": "@jupyter-widgets/controls",
            "_model_module_version": "1.5.0",
            "_model_name": "FloatProgressModel",
            "_view_count": null,
            "_view_module": "@jupyter-widgets/controls",
            "_view_module_version": "1.5.0",
            "_view_name": "ProgressView",
            "bar_style": "success",
            "description": "",
            "description_tooltip": null,
            "layout": "IPY_MODEL_03de19b482c94383921ce1ee864a9051",
            "max": 4203,
            "min": 0,
            "orientation": "horizontal",
            "style": "IPY_MODEL_6f9b51cfd4fc435f96e9ca7b77a72dce",
            "value": 4203
          }
        },
        "f284b3e950c146e18db09208f40c099f": {
          "model_module": "@jupyter-widgets/controls",
          "model_name": "HTMLModel",
          "model_module_version": "1.5.0",
          "state": {
            "_dom_classes": [],
            "_model_module": "@jupyter-widgets/controls",
            "_model_module_version": "1.5.0",
            "_model_name": "HTMLModel",
            "_view_count": null,
            "_view_module": "@jupyter-widgets/controls",
            "_view_module_version": "1.5.0",
            "_view_name": "HTMLView",
            "description": "",
            "description_tooltip": null,
            "layout": "IPY_MODEL_7f620804ea444c57a20a149bb559bf05",
            "placeholder": "​",
            "style": "IPY_MODEL_e7495fa0416f45b2b0663053ff737376",
            "value": " 4.20k/4.20k [00:00&lt;00:00, 80.6kB/s]"
          }
        },
        "08447ccb6021474a9029bfe7901e2e51": {
          "model_module": "@jupyter-widgets/base",
          "model_name": "LayoutModel",
          "model_module_version": "1.2.0",
          "state": {
            "_model_module": "@jupyter-widgets/base",
            "_model_module_version": "1.2.0",
            "_model_name": "LayoutModel",
            "_view_count": null,
            "_view_module": "@jupyter-widgets/base",
            "_view_module_version": "1.2.0",
            "_view_name": "LayoutView",
            "align_content": null,
            "align_items": null,
            "align_self": null,
            "border": null,
            "bottom": null,
            "display": null,
            "flex": null,
            "flex_flow": null,
            "grid_area": null,
            "grid_auto_columns": null,
            "grid_auto_flow": null,
            "grid_auto_rows": null,
            "grid_column": null,
            "grid_gap": null,
            "grid_row": null,
            "grid_template_areas": null,
            "grid_template_columns": null,
            "grid_template_rows": null,
            "height": null,
            "justify_content": null,
            "justify_items": null,
            "left": null,
            "margin": null,
            "max_height": null,
            "max_width": null,
            "min_height": null,
            "min_width": null,
            "object_fit": null,
            "object_position": null,
            "order": null,
            "overflow": null,
            "overflow_x": null,
            "overflow_y": null,
            "padding": null,
            "right": null,
            "top": null,
            "visibility": null,
            "width": null
          }
        },
        "5d0b842ce7834179a4955dbe2ea520b9": {
          "model_module": "@jupyter-widgets/base",
          "model_name": "LayoutModel",
          "model_module_version": "1.2.0",
          "state": {
            "_model_module": "@jupyter-widgets/base",
            "_model_module_version": "1.2.0",
            "_model_name": "LayoutModel",
            "_view_count": null,
            "_view_module": "@jupyter-widgets/base",
            "_view_module_version": "1.2.0",
            "_view_name": "LayoutView",
            "align_content": null,
            "align_items": null,
            "align_self": null,
            "border": null,
            "bottom": null,
            "display": null,
            "flex": null,
            "flex_flow": null,
            "grid_area": null,
            "grid_auto_columns": null,
            "grid_auto_flow": null,
            "grid_auto_rows": null,
            "grid_column": null,
            "grid_gap": null,
            "grid_row": null,
            "grid_template_areas": null,
            "grid_template_columns": null,
            "grid_template_rows": null,
            "height": null,
            "justify_content": null,
            "justify_items": null,
            "left": null,
            "margin": null,
            "max_height": null,
            "max_width": null,
            "min_height": null,
            "min_width": null,
            "object_fit": null,
            "object_position": null,
            "order": null,
            "overflow": null,
            "overflow_x": null,
            "overflow_y": null,
            "padding": null,
            "right": null,
            "top": null,
            "visibility": null,
            "width": null
          }
        },
        "b31330480fe14177968a9571bd14205b": {
          "model_module": "@jupyter-widgets/controls",
          "model_name": "DescriptionStyleModel",
          "model_module_version": "1.5.0",
          "state": {
            "_model_module": "@jupyter-widgets/controls",
            "_model_module_version": "1.5.0",
            "_model_name": "DescriptionStyleModel",
            "_view_count": null,
            "_view_module": "@jupyter-widgets/base",
            "_view_module_version": "1.2.0",
            "_view_name": "StyleView",
            "description_width": ""
          }
        },
        "03de19b482c94383921ce1ee864a9051": {
          "model_module": "@jupyter-widgets/base",
          "model_name": "LayoutModel",
          "model_module_version": "1.2.0",
          "state": {
            "_model_module": "@jupyter-widgets/base",
            "_model_module_version": "1.2.0",
            "_model_name": "LayoutModel",
            "_view_count": null,
            "_view_module": "@jupyter-widgets/base",
            "_view_module_version": "1.2.0",
            "_view_name": "LayoutView",
            "align_content": null,
            "align_items": null,
            "align_self": null,
            "border": null,
            "bottom": null,
            "display": null,
            "flex": null,
            "flex_flow": null,
            "grid_area": null,
            "grid_auto_columns": null,
            "grid_auto_flow": null,
            "grid_auto_rows": null,
            "grid_column": null,
            "grid_gap": null,
            "grid_row": null,
            "grid_template_areas": null,
            "grid_template_columns": null,
            "grid_template_rows": null,
            "height": null,
            "justify_content": null,
            "justify_items": null,
            "left": null,
            "margin": null,
            "max_height": null,
            "max_width": null,
            "min_height": null,
            "min_width": null,
            "object_fit": null,
            "object_position": null,
            "order": null,
            "overflow": null,
            "overflow_x": null,
            "overflow_y": null,
            "padding": null,
            "right": null,
            "top": null,
            "visibility": null,
            "width": null
          }
        },
        "6f9b51cfd4fc435f96e9ca7b77a72dce": {
          "model_module": "@jupyter-widgets/controls",
          "model_name": "ProgressStyleModel",
          "model_module_version": "1.5.0",
          "state": {
            "_model_module": "@jupyter-widgets/controls",
            "_model_module_version": "1.5.0",
            "_model_name": "ProgressStyleModel",
            "_view_count": null,
            "_view_module": "@jupyter-widgets/base",
            "_view_module_version": "1.2.0",
            "_view_name": "StyleView",
            "bar_color": null,
            "description_width": ""
          }
        },
        "7f620804ea444c57a20a149bb559bf05": {
          "model_module": "@jupyter-widgets/base",
          "model_name": "LayoutModel",
          "model_module_version": "1.2.0",
          "state": {
            "_model_module": "@jupyter-widgets/base",
            "_model_module_version": "1.2.0",
            "_model_name": "LayoutModel",
            "_view_count": null,
            "_view_module": "@jupyter-widgets/base",
            "_view_module_version": "1.2.0",
            "_view_name": "LayoutView",
            "align_content": null,
            "align_items": null,
            "align_self": null,
            "border": null,
            "bottom": null,
            "display": null,
            "flex": null,
            "flex_flow": null,
            "grid_area": null,
            "grid_auto_columns": null,
            "grid_auto_flow": null,
            "grid_auto_rows": null,
            "grid_column": null,
            "grid_gap": null,
            "grid_row": null,
            "grid_template_areas": null,
            "grid_template_columns": null,
            "grid_template_rows": null,
            "height": null,
            "justify_content": null,
            "justify_items": null,
            "left": null,
            "margin": null,
            "max_height": null,
            "max_width": null,
            "min_height": null,
            "min_width": null,
            "object_fit": null,
            "object_position": null,
            "order": null,
            "overflow": null,
            "overflow_x": null,
            "overflow_y": null,
            "padding": null,
            "right": null,
            "top": null,
            "visibility": null,
            "width": null
          }
        },
        "e7495fa0416f45b2b0663053ff737376": {
          "model_module": "@jupyter-widgets/controls",
          "model_name": "DescriptionStyleModel",
          "model_module_version": "1.5.0",
          "state": {
            "_model_module": "@jupyter-widgets/controls",
            "_model_module_version": "1.5.0",
            "_model_name": "DescriptionStyleModel",
            "_view_count": null,
            "_view_module": "@jupyter-widgets/base",
            "_view_module_version": "1.2.0",
            "_view_name": "StyleView",
            "description_width": ""
          }
        }
      }
    }
  },
  "nbformat_minor": 0,
  "nbformat": 4,
  "cells": [
    {
      "cell_type": "markdown",
      "source": [
        "# Import libraries, load and transform data"
      ],
      "metadata": {
        "id": "npOskFEabyup"
      }
    },
    {
      "cell_type": "code",
      "source": [
        "# Install necessary Python packages using pip\n",
        "\n",
        "# Use the 'pip' command to install packages\n",
        "# The '-q' flag stands for 'quiet,' which means it will suppress most output, making the installation process less verbose\n",
        "# We're installing the following packages:\n",
        "# - 'evaluate': This package is likely used for evaluation purposes, but the specific functionality is not clear from this line alone\n",
        "# - 'transformers': This package is commonly used for natural language processing tasks, such as working with pre-trained language models like BERT or GPT\n",
        "# - 'datasets': This package provides easy access to various datasets commonly used in machine learning and natural language processing tasks\n",
        "\n",
        "# Note: Before running this code, make sure you have Python and pip installed on your system.\n",
        "# Also, ensure you have an internet connection since pip will download and install these packages from PyPI (Python Package Index).\n",
        "!pip install -U -q evaluate transformers datasets>=2.14.5 accelerate>=0.27 2>/dev/null"
      ],
      "metadata": {
        "execution": {
          "iopub.status.busy": "2024-10-15T06:20:50.353858Z",
          "iopub.execute_input": "2024-10-15T06:20:50.354840Z",
          "iopub.status.idle": "2024-10-15T06:21:15.370917Z",
          "shell.execute_reply.started": "2024-10-15T06:20:50.354792Z",
          "shell.execute_reply": "2024-10-15T06:21:15.369690Z"
        },
        "trusted": true,
        "id": "MB-oJWn4byut"
      },
      "execution_count": 18,
      "outputs": []
    },
    {
      "cell_type": "code",
      "source": [
        "# Importing necessary libraries and modules\n",
        "import warnings  # Import the 'warnings' module for handling warnings\n",
        "warnings.filterwarnings(\"ignore\")  # Ignore warnings during execution\n",
        "\n",
        "import gc  # Import the 'gc' module for garbage collection\n",
        "import numpy as np  # Import NumPy for numerical operations\n",
        "import pandas as pd  # Import Pandas for data manipulation\n",
        "import itertools  # Import 'itertools' for iterators and looping\n",
        "from collections import Counter  # Import 'Counter' for counting elements\n",
        "import matplotlib.pyplot as plt  # Import Matplotlib for data visualization\n",
        "from sklearn.metrics import (  # Import various metrics from scikit-learn\n",
        "    accuracy_score,  # For calculating accuracy\n",
        "    roc_auc_score,  # For ROC AUC score\n",
        "    confusion_matrix,  # For confusion matrix\n",
        "    classification_report,  # For classification report\n",
        "    f1_score  # For F1 score\n",
        ")\n",
        "\n",
        "# Import custom modules and classes\n",
        "from imblearn.over_sampling import RandomOverSampler # import RandomOverSampler\n",
        "import accelerate # Import the 'accelerate' module\n",
        "import evaluate  # Import the 'evaluate' module\n",
        "from datasets import Dataset, Image, ClassLabel  # Import custom 'Dataset', 'ClassLabel', and 'Image' classes\n",
        "from transformers import (  # Import various modules from the Transformers library\n",
        "    TrainingArguments,  # For training arguments\n",
        "    Trainer,  # For model training\n",
        "    ViTImageProcessor,  # For processing image data with ViT models\n",
        "    ViTForImageClassification,  # ViT model for image classification\n",
        "    DefaultDataCollator  # For collating data in the default way\n",
        ")\n",
        "import torch  # Import PyTorch for deep learning\n",
        "from torch.utils.data import DataLoader  # For creating data loaders\n",
        "from torchvision.transforms import (  # Import image transformation functions\n",
        "    CenterCrop,  # Center crop an image\n",
        "    Compose,  # Compose multiple image transformations\n",
        "    Normalize,  # Normalize image pixel values\n",
        "    RandomRotation,  # Apply random rotation to images\n",
        "    RandomResizedCrop,  # Crop and resize images randomly\n",
        "    RandomHorizontalFlip,  # Apply random horizontal flip\n",
        "    RandomAdjustSharpness,  # Adjust sharpness randomly\n",
        "    Resize,  # Resize images\n",
        "    ToTensor  # Convert images to PyTorch tensors\n",
        ")"
      ],
      "metadata": {
        "execution": {
          "iopub.status.busy": "2024-10-15T06:21:15.373068Z",
          "iopub.execute_input": "2024-10-15T06:21:15.373408Z",
          "iopub.status.idle": "2024-10-15T06:21:35.423277Z",
          "shell.execute_reply.started": "2024-10-15T06:21:15.373374Z",
          "shell.execute_reply": "2024-10-15T06:21:35.422441Z"
        },
        "trusted": true,
        "id": "7XaD1zPzbyuw"
      },
      "execution_count": 19,
      "outputs": []
    },
    {
      "cell_type": "code",
      "source": [
        "# Import the necessary module from the Python Imaging Library (PIL).\n",
        "from PIL import ImageFile\n",
        "\n",
        "# Enable the option to load truncated images.\n",
        "# This setting allows the PIL library to attempt loading images even if they are corrupted or incomplete.\n",
        "ImageFile.LOAD_TRUNCATED_IMAGES = True"
      ],
      "metadata": {
        "execution": {
          "iopub.status.busy": "2024-10-15T06:21:35.424329Z",
          "iopub.execute_input": "2024-10-15T06:21:35.424896Z",
          "iopub.status.idle": "2024-10-15T06:21:35.429551Z",
          "shell.execute_reply.started": "2024-10-15T06:21:35.424862Z",
          "shell.execute_reply": "2024-10-15T06:21:35.428467Z"
        },
        "trusted": true,
        "id": "_sn8i6UGbyux"
      },
      "execution_count": 20,
      "outputs": []
    },
    {
      "cell_type": "code",
      "source": [
        "# use https://huggingface.co/docs/datasets/image_load for reference\n",
        "\n",
        "# Import necessary libraries\n",
        "image_dict = {}\n",
        "\n",
        "# Define the list of file names\n",
        "from pathlib import Path\n",
        "from tqdm import tqdm\n",
        "import os\n",
        "# Initialize empty lists to store file names and labels\n",
        "file_names = []\n",
        "labels = []\n",
        "# Iterate through all image files in the specified directory\n",
        "for file in tqdm(sorted((Path('./data').glob('*/*.*')))):\n",
        "    file_names.append(str(file))  # Add the file path to the list\n",
        "    label = str(file).split('/')[-2].lower()  # Extract the label from the file path\n",
        "    labels.append(label)  # Add the label to the list\n",
        "\n",
        "# Print the total number of file names and labels\n",
        "print(len(file_names), len(labels), len(set(labels)))\n",
        "\n",
        "# Create a pandas dataframe from the collected file names and labels\n",
        "df = pd.DataFrame.from_dict({\"image\": file_names, \"label\": labels})"
      ],
      "metadata": {
        "execution": {
          "iopub.status.busy": "2024-10-15T06:21:35.432456Z",
          "iopub.execute_input": "2024-10-15T06:21:35.432845Z",
          "iopub.status.idle": "2024-10-15T06:21:35.886319Z",
          "shell.execute_reply.started": "2024-10-15T06:21:35.432798Z",
          "shell.execute_reply": "2024-10-15T06:21:35.885318Z"
        },
        "trusted": true,
        "colab": {
          "base_uri": "https://localhost:8080/"
        },
        "id": "e325qoHsbyuy",
        "outputId": "6dce747f-3166-4c1f-d13b-813510a21d92"
      },
      "execution_count": 22,
      "outputs": [
        {
          "output_type": "stream",
          "name": "stderr",
          "text": [
            "100%|██████████| 1992/1992 [00:00<00:00, 233348.79it/s]"
          ]
        },
        {
          "output_type": "stream",
          "name": "stdout",
          "text": [
            "1992 1992 5\n"
          ]
        },
        {
          "output_type": "stream",
          "name": "stderr",
          "text": [
            "\n"
          ]
        }
      ]
    },
    {
      "cell_type": "code",
      "source": [
        "df['label'].unique()"
      ],
      "metadata": {
        "execution": {
          "iopub.status.busy": "2024-10-15T06:21:35.887359Z",
          "iopub.execute_input": "2024-10-15T06:21:35.887644Z",
          "iopub.status.idle": "2024-10-15T06:21:35.902057Z",
          "shell.execute_reply.started": "2024-10-15T06:21:35.887613Z",
          "shell.execute_reply": "2024-10-15T06:21:35.901130Z"
        },
        "trusted": true,
        "id": "0biJddnobyuz",
        "outputId": "8bb52090-32a0-45dd-d4b8-9741e010c0d5",
        "colab": {
          "base_uri": "https://localhost:8080/"
        }
      },
      "execution_count": 23,
      "outputs": [
        {
          "output_type": "execute_result",
          "data": {
            "text/plain": [
              "array(['straight', 'wavy', 'curly', 'dreadlocks', 'kinky'], dtype=object)"
            ]
          },
          "metadata": {},
          "execution_count": 23
        }
      ]
    },
    {
      "cell_type": "code",
      "source": [
        "# random oversampling of all minority classes\n",
        "y = df[['label']]\n",
        "df = df.drop(['label'], axis=1)\n",
        "ros = RandomOverSampler(random_state=83)\n",
        "df, y_resampled = ros.fit_resample(df, y)\n",
        "del y\n",
        "df['label'] = y_resampled\n",
        "del y_resampled\n",
        "gc.collect()\n",
        "\n",
        "print(df.shape)"
      ],
      "metadata": {
        "execution": {
          "iopub.status.busy": "2024-10-15T06:21:35.903074Z",
          "iopub.execute_input": "2024-10-15T06:21:35.903333Z",
          "iopub.status.idle": "2024-10-15T06:21:36.232888Z",
          "shell.execute_reply.started": "2024-10-15T06:21:35.903303Z",
          "shell.execute_reply": "2024-10-15T06:21:36.231933Z"
        },
        "trusted": true,
        "id": "xCfJg_Plbyuz",
        "outputId": "93010a6b-7ec0-404c-a9e6-9e4b059189c9",
        "colab": {
          "base_uri": "https://localhost:8080/"
        }
      },
      "execution_count": 24,
      "outputs": [
        {
          "output_type": "stream",
          "name": "stdout",
          "text": [
            "(2570, 2)\n"
          ]
        }
      ]
    },
    {
      "cell_type": "code",
      "source": [
        "# Create a dataset from a Pandas DataFrame.\n",
        "dataset = Dataset.from_pandas(df).cast_column(\"image\", Image())"
      ],
      "metadata": {
        "execution": {
          "iopub.status.busy": "2024-10-15T06:21:36.233994Z",
          "iopub.execute_input": "2024-10-15T06:21:36.234370Z",
          "iopub.status.idle": "2024-10-15T06:21:36.270854Z",
          "shell.execute_reply.started": "2024-10-15T06:21:36.234323Z",
          "shell.execute_reply": "2024-10-15T06:21:36.270130Z"
        },
        "trusted": true,
        "id": "KE9eEVCAbyu0"
      },
      "execution_count": 25,
      "outputs": []
    },
    {
      "cell_type": "code",
      "source": [
        "# Display the first image in the dataset\n",
        "dataset[0][\"image\"]"
      ],
      "metadata": {
        "execution": {
          "iopub.status.busy": "2024-10-15T06:21:36.271933Z",
          "iopub.execute_input": "2024-10-15T06:21:36.272247Z",
          "iopub.status.idle": "2024-10-15T06:21:36.334167Z",
          "shell.execute_reply.started": "2024-10-15T06:21:36.272215Z",
          "shell.execute_reply": "2024-10-15T06:21:36.333276Z"
        },
        "trusted": true,
        "id": "KmEYCuPbbyu0",
        "outputId": "363f383a-7eb9-4036-8124-4dc478acb04e",
        "colab": {
          "base_uri": "https://localhost:8080/",
          "height": 497
        }
      },
      "execution_count": 26,
      "outputs": [
        {
          "output_type": "execute_result",
          "data": {
            "text/plain": [
              "<PIL.JpegImagePlugin.JpegImageFile image mode=RGB size=360x480>"
            ],
            "image/png": "[encoded data removed]",
            "image/jpeg": "[encoded data removed]"
          },
          "metadata": {},
          "execution_count": 26
        }
      ]
    },
    {
      "cell_type": "code",
      "source": [
        "# Extracting a subset of elements from the 'labels' list using slicing.\n",
        "# The slicing syntax [:5] selects elements from the beginning up to (but not including) the 5th element.\n",
        "# This will give us the first 5 elements of the 'labels' list.\n",
        "# The result will be a new list containing these elements.\n",
        "labels_subset = labels[:5]\n",
        "\n",
        "# Printing the subset of labels to inspect the content.\n",
        "print(labels_subset)"
      ],
      "metadata": {
        "execution": {
          "iopub.status.busy": "2024-10-15T06:21:36.335333Z",
          "iopub.execute_input": "2024-10-15T06:21:36.335625Z",
          "iopub.status.idle": "2024-10-15T06:21:36.340624Z",
          "shell.execute_reply.started": "2024-10-15T06:21:36.335593Z",
          "shell.execute_reply": "2024-10-15T06:21:36.339764Z"
        },
        "trusted": true,
        "id": "erYzaoiFbyu1",
        "outputId": "288daaee-6978-44c7-8322-eeda5c3e84f3",
        "colab": {
          "base_uri": "https://localhost:8080/"
        }
      },
      "execution_count": 27,
      "outputs": [
        {
          "output_type": "stream",
          "name": "stdout",
          "text": [
            "['straight', 'straight', 'straight', 'straight', 'straight']\n"
          ]
        }
      ]
    },
    {
      "cell_type": "code",
      "source": [
        "# Create a list of unique labels by converting 'labels' to a set and then back to a list\n",
        "labels_list = sorted(list(set(labels)))\n",
        "\n",
        "# Initialize empty dictionaries to map labels to IDs and vice versa\n",
        "label2id, id2label = dict(), dict()\n",
        "\n",
        "# Iterate over the unique labels and assign each label an ID, and vice versa\n",
        "for i, label in enumerate(labels_list):\n",
        "    label2id[label] = i  # Map the label to its corresponding ID\n",
        "    id2label[i] = label  # Map the ID to its corresponding label\n",
        "\n",
        "# Print the resulting dictionaries for reference\n",
        "print(\"Mapping of IDs to Labels:\", id2label, '\\n')\n",
        "print(\"Mapping of Labels to IDs:\", label2id)"
      ],
      "metadata": {
        "execution": {
          "iopub.status.busy": "2024-10-15T06:21:36.345689Z",
          "iopub.execute_input": "2024-10-15T06:21:36.346147Z",
          "iopub.status.idle": "2024-10-15T06:21:36.354004Z",
          "shell.execute_reply.started": "2024-10-15T06:21:36.346105Z",
          "shell.execute_reply": "2024-10-15T06:21:36.353035Z"
        },
        "trusted": true,
        "id": "WTU9GE7cbyu1",
        "outputId": "1364f232-3c9f-4c11-e8ea-6f45a3b0bf5c",
        "colab": {
          "base_uri": "https://localhost:8080/"
        }
      },
      "execution_count": 28,
      "outputs": [
        {
          "output_type": "stream",
          "name": "stdout",
          "text": [
            "Mapping of IDs to Labels: {0: 'curly', 1: 'dreadlocks', 2: 'kinky', 3: 'straight', 4: 'wavy'} \n",
            "\n",
            "Mapping of Labels to IDs: {'curly': 0, 'dreadlocks': 1, 'kinky': 2, 'straight': 3, 'wavy': 4}\n"
          ]
        }
      ]
    },
    {
      "cell_type": "code",
      "source": [
        "# Creating classlabels to match labels to IDs\n",
        "ClassLabels = ClassLabel(num_classes=len(labels_list), names=labels_list)\n",
        "\n",
        "# Mapping labels to IDs\n",
        "def map_label2id(example):\n",
        "    example['label'] = ClassLabels.str2int(example['label'])\n",
        "    return example\n",
        "\n",
        "dataset = dataset.map(map_label2id, batched=True)\n",
        "\n",
        "# Casting label column to ClassLabel Object\n",
        "dataset = dataset.cast_column('label', ClassLabels)\n",
        "\n",
        "# Splitting the dataset into training and testing sets using an 60-40 split ratio.\n",
        "dataset = dataset.train_test_split(test_size=0.4, shuffle=True, stratify_by_column=\"label\")\n",
        "\n",
        "# Extracting the training data from the split dataset.\n",
        "train_data = dataset['train']\n",
        "\n",
        "# Extracting the testing data from the split dataset.\n",
        "test_data = dataset['test']"
      ],
      "metadata": {
        "execution": {
          "iopub.status.busy": "2024-10-15T06:21:36.355266Z",
          "iopub.execute_input": "2024-10-15T06:21:36.355612Z",
          "iopub.status.idle": "2024-10-15T06:21:36.451765Z",
          "shell.execute_reply.started": "2024-10-15T06:21:36.355571Z",
          "shell.execute_reply": "2024-10-15T06:21:36.451080Z"
        },
        "trusted": true,
        "colab": {
          "referenced_widgets": [
            "827d85cf379c493c974c8f59986fe694",
            "e0dcf19a4da94ea28df4f6daa005bbcf",
            "36ade3534ae441b39e97c5ae152b0021",
            "46c8b1b06c1646ae8ca19b417e60fd91",
            "4de60750bb3a4541b75a99149621cfc4",
            "3ac5e9e009de4f2b9a2f13550fd11afa",
            "2f5489b338eb44c5a3109fb0f69a3857",
            "4557e191639d409b91dbf87af80aac72",
            "3e0a1c62ea1a40bb82f64159c131c573",
            "1f10814933e7417fbc67104a8413708e",
            "1f260b753ca04f2b8909f48efb85c3b9",
            "a382cfed1f034bbc9b313eff6be58a52",
            "4fa39924f511439e98e3d89c076421f1",
            "26b42f2b3330451e95af558fd6b45d87",
            "8a322552d8994049aa02381b61f3e1c6",
            "195dc953f73f48e0a97cf33eac840bfd",
            "6c156a31184f41a6a249be1b46beebeb",
            "4e9e2a72ad9b4443b54d93cba36289fe",
            "0b50055799fa4494975a8f596dae5293",
            "b686d411f17049628888686bcacf7dff",
            "80888ae019d941c99ba56590f722e9a3",
            "4deec818f90546179d0a8619bc8cbe50"
          ],
          "base_uri": "https://localhost:8080/",
          "height": 81
        },
        "id": "bbiY_Wppbyu1",
        "outputId": "088d9f1c-831e-445b-d0b2-42c6c317fde1"
      },
      "execution_count": 29,
      "outputs": [
        {
          "output_type": "display_data",
          "data": {
            "text/plain": [
              "Map:   0%|          | 0/2570 [00:00<?, ? examples/s]"
            ],
            "application/vnd.jupyter.widget-view+json": {
              "version_major": 2,
              "version_minor": 0,
              "model_id": "827d85cf379c493c974c8f59986fe694"
            }
          },
          "metadata": {}
        },
        {
          "output_type": "display_data",
          "data": {
            "text/plain": [
              "Casting the dataset:   0%|          | 0/2570 [00:00<?, ? examples/s]"
            ],
            "application/vnd.jupyter.widget-view+json": {
              "version_major": 2,
              "version_minor": 0,
              "model_id": "a382cfed1f034bbc9b313eff6be58a52"
            }
          },
          "metadata": {}
        }
      ]
    },
    {
      "cell_type": "code",
      "source": [
        "# Define the pre-trained ViT model string\n",
        "model_str = 'google/vit-base-patch16-224-in21k'\n",
        "\n",
        "# Create a processor for ViT model input from the pre-trained model\n",
        "processor = ViTImageProcessor.from_pretrained(model_str)\n",
        "\n",
        "# Retrieve the image mean and standard deviation used for normalization\n",
        "image_mean, image_std = processor.image_mean, processor.image_std\n",
        "\n",
        "# Get the size (height) of the ViT model's input images\n",
        "size = processor.size[\"height\"]\n",
        "print(\"Size: \", size)\n",
        "\n",
        "# Define a normalization transformation for the input images\n",
        "normalize = Normalize(mean=image_mean, std=image_std)\n",
        "\n",
        "# Define a set of transformations for training data\n",
        "_train_transforms = Compose(\n",
        "    [\n",
        "        Resize((size, size)),             # Resize images to the ViT model's input size\n",
        "        RandomRotation(90),               # Apply random rotation up to 20 degrees\n",
        "        RandomAdjustSharpness(2),         # Adjust sharpness randomly\n",
        "        RandomHorizontalFlip(0.5),        # Random horizontal flip\n",
        "        ToTensor(),                       # Convert images to tensors\n",
        "        normalize                         # Normalize images using mean and std\n",
        "    ]\n",
        ")\n",
        "\n",
        "# Define a set of transformations for validation data\n",
        "_val_transforms = Compose(\n",
        "    [\n",
        "        Resize((size, size)),             # Resize images to the ViT model's input size\n",
        "        ToTensor(),                       # Convert images to tensors\n",
        "        normalize                         # Normalize images using mean and std\n",
        "    ]\n",
        ")\n",
        "\n",
        "# Define a function to apply training transformations to a batch of examples\n",
        "def train_transforms(examples):\n",
        "    examples['pixel_values'] = [_train_transforms(image.convert(\"RGB\")) for image in examples['image']]\n",
        "    return examples\n",
        "\n",
        "# Define a function to apply validation transformations to a batch of examples\n",
        "def val_transforms(examples):\n",
        "    examples['pixel_values'] = [_val_transforms(image.convert(\"RGB\")) for image in examples['image']]\n",
        "    return examples"
      ],
      "metadata": {
        "execution": {
          "iopub.status.busy": "2024-10-15T06:21:36.453086Z",
          "iopub.execute_input": "2024-10-15T06:21:36.453464Z",
          "iopub.status.idle": "2024-10-15T06:21:36.716811Z",
          "shell.execute_reply.started": "2024-10-15T06:21:36.453422Z",
          "shell.execute_reply": "2024-10-15T06:21:36.715850Z"
        },
        "trusted": true,
        "colab": {
          "referenced_widgets": [
            "9d2cfa2107f74fb1a4174232ab2f7c00",
            "eb4e8f95cbd44144aa697d5c35514d05",
            "7d92a15eb3254e689aac0c6f619b7db7",
            "58dfd790f4c74be0a033342835bcb8f1",
            "f147dcebbcd8492bb0e7e96b66a54e33",
            "301841398f5441dd9fc031c3d2baad55",
            "37ce5dabb9494a45b63b020efe5841c7",
            "9df7607fe8ba46a8a79c0c34b6847046",
            "bf2dddc2a3244fe58eca68e3f8aecb0b",
            "5ee51999c9b2493c86e40c1d67af17bf",
            "0b0c645891884bc98b8582ec7623c67b"
          ],
          "base_uri": "https://localhost:8080/",
          "height": 66
        },
        "id": "dqLXjOPJbyu2",
        "outputId": "9a6b2fb4-28b2-4e86-95a4-dfe83899bffb"
      },
      "execution_count": 30,
      "outputs": [
        {
          "output_type": "display_data",
          "data": {
            "text/plain": [
              "preprocessor_config.json:   0%|          | 0.00/160 [00:00<?, ?B/s]"
            ],
            "application/vnd.jupyter.widget-view+json": {
              "version_major": 2,
              "version_minor": 0,
              "model_id": "9d2cfa2107f74fb1a4174232ab2f7c00"
            }
          },
          "metadata": {}
        },
        {
          "output_type": "stream",
          "name": "stdout",
          "text": [
            "Size:  224\n"
          ]
        }
      ]
    },
    {
      "cell_type": "code",
      "source": [
        "# Set the transforms for the training data\n",
        "train_data.set_transform(train_transforms)\n",
        "\n",
        "# Set the transforms for the test/validation data\n",
        "test_data.set_transform(val_transforms)"
      ],
      "metadata": {
        "execution": {
          "iopub.status.busy": "2024-10-15T06:21:36.718117Z",
          "iopub.execute_input": "2024-10-15T06:21:36.718495Z",
          "iopub.status.idle": "2024-10-15T06:21:36.735442Z",
          "shell.execute_reply.started": "2024-10-15T06:21:36.718453Z",
          "shell.execute_reply": "2024-10-15T06:21:36.734565Z"
        },
        "trusted": true,
        "id": "wpYtuYaqbyu2"
      },
      "execution_count": 31,
      "outputs": []
    },
    {
      "cell_type": "code",
      "source": [
        "# Define a collate function that prepares batched data for model training.\n",
        "def collate_fn(examples):\n",
        "    # Stack the pixel values from individual examples into a single tensor.\n",
        "    pixel_values = torch.stack([example[\"pixel_values\"] for example in examples])\n",
        "\n",
        "    # Convert the label strings in examples to corresponding numeric IDs using label2id dictionary.\n",
        "    labels = torch.tensor([example['label'] for example in examples])\n",
        "\n",
        "    # Return a dictionary containing the batched pixel values and labels.\n",
        "    return {\"pixel_values\": pixel_values, \"labels\": labels}"
      ],
      "metadata": {
        "execution": {
          "iopub.status.busy": "2024-10-15T06:21:36.736756Z",
          "iopub.execute_input": "2024-10-15T06:21:36.737090Z",
          "iopub.status.idle": "2024-10-15T06:21:36.750197Z",
          "shell.execute_reply.started": "2024-10-15T06:21:36.737057Z",
          "shell.execute_reply": "2024-10-15T06:21:36.749471Z"
        },
        "trusted": true,
        "id": "1zNlMX84byu2"
      },
      "execution_count": 32,
      "outputs": []
    },
    {
      "cell_type": "markdown",
      "source": [
        "# Load, train, and evaluate model"
      ],
      "metadata": {
        "id": "IeLGGQh6byu3"
      }
    },
    {
      "cell_type": "code",
      "source": [
        "# Create a ViTForImageClassification model from a pretrained checkpoint with a specified number of output labels.\n",
        "model = ViTForImageClassification.from_pretrained(model_str, num_labels=len(labels_list))\n",
        "\n",
        "# Configure the mapping of class labels to their corresponding indices for later reference.\n",
        "model.config.id2label = id2label\n",
        "model.config.label2id = label2id\n",
        "\n",
        "# Calculate and print the number of trainable parameters in millions for the model.\n",
        "print(model.num_parameters(only_trainable=True) / 1e6)"
      ],
      "metadata": {
        "execution": {
          "iopub.status.busy": "2024-10-15T06:21:36.751402Z",
          "iopub.execute_input": "2024-10-15T06:21:36.751695Z",
          "iopub.status.idle": "2024-10-15T06:21:38.941236Z",
          "shell.execute_reply.started": "2024-10-15T06:21:36.751664Z",
          "shell.execute_reply": "2024-10-15T06:21:38.940344Z"
        },
        "trusted": true,
        "colab": {
          "referenced_widgets": [
            "380f8420f24041f7afa36ed889bd3fb8",
            "f9dbb4f0e7d948859d8e75771387da31",
            "b568ae50c86c4b08acf5353b6b5ebffc",
            "5e91d36d4c3440e6a87491a395f235e5",
            "ff465f61cfac464084c37cb3103b6777",
            "55e1de3a2d3e488081dfdbe8ff528012",
            "9f867a12a9224d868333dc1760fe3ac6",
            "61779f8a3e8345dfb6b8c107cebf2375",
            "a96ec203b3334976b732bd92032363b1",
            "cea149204bf54ef281f3a77537cafa6e",
            "23b1e98fb1d04dfabe7d504dd4f0cba1",
            "7667f2f4231b45b4a221cad87a379f20",
            "81577e7bcb874020b4b5803413614385",
            "032734298a2644a6af1f61efab1f76c7",
            "abbc420d4c9044b883fc1f0d5f8e44ec",
            "45db1321916741a693011b652dde406f",
            "0f06fdcad21b43da90fa66a0fa9294d7",
            "e77c5bd048f74a198ad788199f661094",
            "52dc0b859ebb40e8beb5c2ffcbfb5fbc",
            "60c6e09f1c2343e28519683f502709a1",
            "75bf774d50be45948a9399dd61197b71",
            "1165ae55b60e4b55b7d41a4ca2a6ad10"
          ],
          "base_uri": "https://localhost:8080/",
          "height": 133
        },
        "id": "8z7OeS-bbyu3",
        "outputId": "0b5b6c33-c171-48ce-e3dc-44b8ecb8b77d"
      },
      "execution_count": 33,
      "outputs": [
        {
          "output_type": "display_data",
          "data": {
            "text/plain": [
              "config.json:   0%|          | 0.00/502 [00:00<?, ?B/s]"
            ],
            "application/vnd.jupyter.widget-view+json": {
              "version_major": 2,
              "version_minor": 0,
              "model_id": "380f8420f24041f7afa36ed889bd3fb8"
            }
          },
          "metadata": {}
        },
        {
          "output_type": "display_data",
          "data": {
            "text/plain": [
              "model.safetensors:   0%|          | 0.00/346M [00:00<?, ?B/s]"
            ],
            "application/vnd.jupyter.widget-view+json": {
              "version_major": 2,
              "version_minor": 0,
              "model_id": "7667f2f4231b45b4a221cad87a379f20"
            }
          },
          "metadata": {}
        },
        {
          "output_type": "stream",
          "name": "stderr",
          "text": [
            "Some weights of ViTForImageClassification were not initialized from the model checkpoint at google/vit-base-patch16-224-in21k and are newly initialized: ['classifier.bias', 'classifier.weight']\n",
            "You should probably TRAIN this model on a down-stream task to be able to use it for predictions and inference.\n"
          ]
        },
        {
          "output_type": "stream",
          "name": "stdout",
          "text": [
            "85.802501\n"
          ]
        }
      ]
    },
    {
      "cell_type": "code",
      "source": [
        "# Load the accuracy metric from a module named 'evaluate'\n",
        "accuracy = evaluate.load(\"accuracy\")\n",
        "\n",
        "# Define a function 'compute_metrics' to calculate evaluation metrics\n",
        "def compute_metrics(eval_pred):\n",
        "    # Extract model predictions from the evaluation prediction object\n",
        "    predictions = eval_pred.predictions\n",
        "\n",
        "    # Extract true labels from the evaluation prediction object\n",
        "    label_ids = eval_pred.label_ids\n",
        "\n",
        "    # Calculate accuracy using the loaded accuracy metric\n",
        "    # Convert model predictions to class labels by selecting the class with the highest probability (argmax)\n",
        "    predicted_labels = predictions.argmax(axis=1)\n",
        "\n",
        "    # Calculate accuracy score by comparing predicted labels to true labels\n",
        "    acc_score = accuracy.compute(predictions=predicted_labels, references=label_ids)['accuracy']\n",
        "\n",
        "    # Return the computed accuracy as a dictionary with the key \"accuracy\"\n",
        "    return {\n",
        "        \"accuracy\": acc_score\n",
        "    }"
      ],
      "metadata": {
        "execution": {
          "iopub.status.busy": "2024-10-15T06:21:38.942524Z",
          "iopub.execute_input": "2024-10-15T06:21:38.942857Z",
          "iopub.status.idle": "2024-10-15T06:21:39.550004Z",
          "shell.execute_reply.started": "2024-10-15T06:21:38.942820Z",
          "shell.execute_reply": "2024-10-15T06:21:39.549062Z"
        },
        "trusted": true,
        "colab": {
          "referenced_widgets": [
            "a6cd1cd42e4143bb9063bb0ad0eadde4",
            "49ca967502914f3eb99203e2a6464894",
            "9afc64f835ca46c090d655953bf30663",
            "f284b3e950c146e18db09208f40c099f",
            "08447ccb6021474a9029bfe7901e2e51",
            "5d0b842ce7834179a4955dbe2ea520b9",
            "b31330480fe14177968a9571bd14205b",
            "03de19b482c94383921ce1ee864a9051",
            "6f9b51cfd4fc435f96e9ca7b77a72dce",
            "7f620804ea444c57a20a149bb559bf05",
            "e7495fa0416f45b2b0663053ff737376"
          ],
          "base_uri": "https://localhost:8080/",
          "height": 49
        },
        "id": "lbL0Pn9jbyu3",
        "outputId": "45a4279d-53ed-4fc8-e455-712a6bf8b37c"
      },
      "execution_count": 34,
      "outputs": [
        {
          "output_type": "display_data",
          "data": {
            "text/plain": [
              "Downloading builder script:   0%|          | 0.00/4.20k [00:00<?, ?B/s]"
            ],
            "application/vnd.jupyter.widget-view+json": {
              "version_major": 2,
              "version_minor": 0,
              "model_id": "a6cd1cd42e4143bb9063bb0ad0eadde4"
            }
          },
          "metadata": {}
        }
      ]
    },
    {
      "cell_type": "code",
      "source": [
        "# Define the name of the evaluation metric to be used during training and evaluation.\n",
        "metric_name = \"accuracy\"\n",
        "\n",
        "# Define the name of the model, which will be used to create a directory for saving model checkpoints and outputs.\n",
        "model_name = \"hair_type_image_detection\"\n",
        "\n",
        "# Define the number of training epochs for the model.\n",
        "num_train_epochs = 100\n",
        "\n",
        "# Create an instance of TrainingArguments to configure training settings.\n",
        "args = TrainingArguments(\n",
        "    # Specify the directory where model checkpoints and outputs will be saved.\n",
        "    output_dir=model_name,\n",
        "\n",
        "    # Specify the directory where training logs will be stored.\n",
        "    logging_dir='./logs',\n",
        "\n",
        "    # Define the evaluation strategy, which is performed at the end of each epoch.\n",
        "    evaluation_strategy=\"epoch\",\n",
        "\n",
        "    # Set the learning rate for the optimizer.\n",
        "    learning_rate=1e-6,\n",
        "\n",
        "    # Define the batch size for training on each device.\n",
        "    per_device_train_batch_size=32,\n",
        "\n",
        "    # Define the batch size for evaluation on each device.\n",
        "    per_device_eval_batch_size=8,\n",
        "\n",
        "    # Specify the total number of training epochs.\n",
        "    num_train_epochs=num_train_epochs,\n",
        "\n",
        "    # Apply weight decay to prevent overfitting.\n",
        "    weight_decay=0.02,\n",
        "\n",
        "    # Set the number of warm-up steps for the learning rate scheduler.\n",
        "    warmup_steps=50,\n",
        "\n",
        "    # Disable the removal of unused columns from the dataset.\n",
        "    remove_unused_columns=False,\n",
        "\n",
        "    # Define the strategy for saving model checkpoints (per epoch in this case).\n",
        "    save_strategy='epoch',\n",
        "\n",
        "    # Load the best model at the end of training.\n",
        "    load_best_model_at_end=True,\n",
        "\n",
        "    # Limit the total number of saved checkpoints to save space.\n",
        "    save_total_limit=1,\n",
        "\n",
        "    # Specify that training progress should not be reported.\n",
        "    report_to=\"none\"\n",
        ")"
      ],
      "metadata": {
        "execution": {
          "iopub.status.busy": "2024-10-15T06:21:39.551268Z",
          "iopub.execute_input": "2024-10-15T06:21:39.551589Z",
          "iopub.status.idle": "2024-10-15T06:21:39.630676Z",
          "shell.execute_reply.started": "2024-10-15T06:21:39.551556Z",
          "shell.execute_reply": "2024-10-15T06:21:39.629834Z"
        },
        "trusted": true,
        "id": "UwUeJbSRbyu4"
      },
      "execution_count": 35,
      "outputs": []
    },
    {
      "cell_type": "code",
      "source": [
        "# Create a Trainer instance for fine-tuning a language model.\n",
        "\n",
        "# - `model`: The pre-trained language model to be fine-tuned.\n",
        "# - `args`: Configuration settings and hyperparameters for training.\n",
        "# - `train_dataset`: The dataset used for training the model.\n",
        "# - `eval_dataset`: The dataset used for evaluating the model during training.\n",
        "# - `data_collator`: A function that defines how data batches are collated and processed.\n",
        "# - `compute_metrics`: A function for computing custom evaluation metrics.\n",
        "# - `tokenizer`: The tokenizer used for processing text data.\n",
        "\n",
        "trainer = Trainer(\n",
        "    model,\n",
        "    args,\n",
        "    train_dataset=train_data,\n",
        "    eval_dataset=test_data,\n",
        "    data_collator=collate_fn,\n",
        "    compute_metrics=compute_metrics,\n",
        "    tokenizer=processor,\n",
        ")"
      ],
      "metadata": {
        "execution": {
          "iopub.status.busy": "2024-10-15T06:21:39.631800Z",
          "iopub.execute_input": "2024-10-15T06:21:39.632211Z",
          "iopub.status.idle": "2024-10-15T06:21:39.924605Z",
          "shell.execute_reply.started": "2024-10-15T06:21:39.632175Z",
          "shell.execute_reply": "2024-10-15T06:21:39.923436Z"
        },
        "trusted": true,
        "id": "IsdrPmnvbyu4"
      },
      "execution_count": 36,
      "outputs": []
    },
    {
      "cell_type": "code",
      "source": [
        "# Evaluate the pre-training model's performance on a test dataset.\n",
        "# This function calculates various metrics such as accuracy, loss, etc.,\n",
        "# to assess how well the model is performing on unseen data.\n",
        "\n",
        "trainer.evaluate()"
      ],
      "metadata": {
        "execution": {
          "iopub.status.busy": "2024-10-15T06:21:39.926456Z",
          "iopub.execute_input": "2024-10-15T06:21:39.926951Z",
          "iopub.status.idle": "2024-10-15T06:22:01.489129Z",
          "shell.execute_reply.started": "2024-10-15T06:21:39.926878Z",
          "shell.execute_reply": "2024-10-15T06:22:01.488163Z"
        },
        "trusted": true,
        "id": "y4UtGd4Tbyu5",
        "outputId": "2da50d3e-2752-429b-a04a-77e3be1496cf",
        "colab": {
          "base_uri": "https://localhost:8080/",
          "height": 141
        }
      },
      "execution_count": 37,
      "outputs": [
        {
          "output_type": "display_data",
          "data": {
            "text/plain": [
              "<IPython.core.display.HTML object>"
            ],
            "text/html": [
              "\n",
              "    <div>\n",
              "      \n",
              "      <progress value='129' max='129' style='width:300px; height:20px; vertical-align: middle;'></progress>\n",
              "      [129/129 00:30]\n",
              "    </div>\n",
              "    "
            ]
          },
          "metadata": {}
        },
        {
          "output_type": "execute_result",
          "data": {
            "text/plain": [
              "{'eval_loss': 1.607270359992981,\n",
              " 'eval_model_preparation_time': 0.0077,\n",
              " 'eval_accuracy': 0.23735408560311283,\n",
              " 'eval_runtime': 32.0073,\n",
              " 'eval_samples_per_second': 32.118,\n",
              " 'eval_steps_per_second': 4.03}"
            ]
          },
          "metadata": {},
          "execution_count": 37
        }
      ]
    },
    {
      "cell_type": "code",
      "source": [
        "# Start training the model using the trainer object.\n",
        "trainer.train()"
      ],
      "metadata": {
        "execution": {
          "iopub.status.busy": "2024-10-15T06:22:01.490434Z",
          "iopub.execute_input": "2024-10-15T06:22:01.490766Z",
          "iopub.status.idle": "2024-10-15T08:04:08.913591Z",
          "shell.execute_reply.started": "2024-10-15T06:22:01.490732Z",
          "shell.execute_reply": "2024-10-15T08:04:08.912557Z"
        },
        "trusted": true,
        "id": "TYq9fE3Jbyu5",
        "outputId": "31d5a674-7f7c-4292-f585-8e40aef4d9bf",
        "colab": {
          "base_uri": "https://localhost:8080/",
          "height": 1000
        }
      },
      "execution_count": null,
      "outputs": [
        {
          "output_type": "display_data",
          "data": {
            "text/plain": [
              "<IPython.core.display.HTML object>"
            ],
            "text/html": [
              "\n",
              "    <div>\n",
              "      \n",
              "      <progress value='1570' max='4900' style='width:300px; height:20px; vertical-align: middle;'></progress>\n",
              "      [1570/4900 1:02:46 < 2:13:19, 0.42 it/s, Epoch 32.02/100]\n",
              "    </div>\n",
              "    <table border=\"1\" class=\"dataframe\">\n",
              "  <thead>\n",
              " <tr style=\"text-align: left;\">\n",
              "      <th>Epoch</th>\n",
              "      <th>Training Loss</th>\n",
              "      <th>Validation Loss</th>\n",
              "      <th>Model Preparation Time</th>\n",
              "      <th>Accuracy</th>\n",
              "    </tr>\n",
              "  </thead>\n",
              "  <tbody>\n",
              "    <tr>\n",
              "      <td>1</td>\n",
              "      <td>No log</td>\n",
              "      <td>1.600403</td>\n",
              "      <td>0.007700</td>\n",
              "      <td>0.261673</td>\n",
              "    </tr>\n",
              "    <tr>\n",
              "      <td>2</td>\n",
              "      <td>No log</td>\n",
              "      <td>1.586364</td>\n",
              "      <td>0.007700</td>\n",
              "      <td>0.298638</td>\n",
              "    </tr>\n",
              "    <tr>\n",
              "      <td>3</td>\n",
              "      <td>No log</td>\n",
              "      <td>1.571113</td>\n",
              "      <td>0.007700</td>\n",
              "      <td>0.335603</td>\n",
              "    </tr>\n",
              "    <tr>\n",
              "      <td>4</td>\n",
              "      <td>No log</td>\n",
              "      <td>1.554325</td>\n",
              "      <td>0.007700</td>\n",
              "      <td>0.382296</td>\n",
              "    </tr>\n",
              "    <tr>\n",
              "      <td>5</td>\n",
              "      <td>No log</td>\n",
              "      <td>1.535818</td>\n",
              "      <td>0.007700</td>\n",
              "      <td>0.453307</td>\n",
              "    </tr>\n",
              "    <tr>\n",
              "      <td>6</td>\n",
              "      <td>No log</td>\n",
              "      <td>1.514911</td>\n",
              "      <td>0.007700</td>\n",
              "      <td>0.493191</td>\n",
              "    </tr>\n",
              "    <tr>\n",
              "      <td>7</td>\n",
              "      <td>No log</td>\n",
              "      <td>1.492403</td>\n",
              "      <td>0.007700</td>\n",
              "      <td>0.534047</td>\n",
              "    </tr>\n",
              "    <tr>\n",
              "      <td>8</td>\n",
              "      <td>No log</td>\n",
              "      <td>1.468346</td>\n",
              "      <td>0.007700</td>\n",
              "      <td>0.575875</td>\n",
              "    </tr>\n",
              "    <tr>\n",
              "      <td>9</td>\n",
              "      <td>No log</td>\n",
              "      <td>1.444709</td>\n",
              "      <td>0.007700</td>\n",
              "      <td>0.597276</td>\n",
              "    </tr>\n",
              "    <tr>\n",
              "      <td>10</td>\n",
              "      <td>No log</td>\n",
              "      <td>1.421345</td>\n",
              "      <td>0.007700</td>\n",
              "      <td>0.616732</td>\n",
              "    </tr>\n",
              "    <tr>\n",
              "      <td>11</td>\n",
              "      <td>1.499700</td>\n",
              "      <td>1.397648</td>\n",
              "      <td>0.007700</td>\n",
              "      <td>0.642996</td>\n",
              "    </tr>\n",
              "    <tr>\n",
              "      <td>12</td>\n",
              "      <td>1.499700</td>\n",
              "      <td>1.373331</td>\n",
              "      <td>0.007700</td>\n",
              "      <td>0.672179</td>\n",
              "    </tr>\n",
              "    <tr>\n",
              "      <td>13</td>\n",
              "      <td>1.499700</td>\n",
              "      <td>1.349313</td>\n",
              "      <td>0.007700</td>\n",
              "      <td>0.689689</td>\n",
              "    </tr>\n",
              "    <tr>\n",
              "      <td>14</td>\n",
              "      <td>1.499700</td>\n",
              "      <td>1.324651</td>\n",
              "      <td>0.007700</td>\n",
              "      <td>0.701362</td>\n",
              "    </tr>\n",
              "    <tr>\n",
              "      <td>15</td>\n",
              "      <td>1.499700</td>\n",
              "      <td>1.300558</td>\n",
              "      <td>0.007700</td>\n",
              "      <td>0.721790</td>\n",
              "    </tr>\n",
              "    <tr>\n",
              "      <td>16</td>\n",
              "      <td>1.499700</td>\n",
              "      <td>1.275586</td>\n",
              "      <td>0.007700</td>\n",
              "      <td>0.735409</td>\n",
              "    </tr>\n",
              "    <tr>\n",
              "      <td>17</td>\n",
              "      <td>1.499700</td>\n",
              "      <td>1.251301</td>\n",
              "      <td>0.007700</td>\n",
              "      <td>0.755837</td>\n",
              "    </tr>\n",
              "    <tr>\n",
              "      <td>18</td>\n",
              "      <td>1.499700</td>\n",
              "      <td>1.226511</td>\n",
              "      <td>0.007700</td>\n",
              "      <td>0.763619</td>\n",
              "    </tr>\n",
              "    <tr>\n",
              "      <td>19</td>\n",
              "      <td>1.499700</td>\n",
              "      <td>1.201772</td>\n",
              "      <td>0.007700</td>\n",
              "      <td>0.771401</td>\n",
              "    </tr>\n",
              "    <tr>\n",
              "      <td>20</td>\n",
              "      <td>1.499700</td>\n",
              "      <td>1.178282</td>\n",
              "      <td>0.007700</td>\n",
              "      <td>0.785992</td>\n",
              "    </tr>\n",
              "    <tr>\n",
              "      <td>21</td>\n",
              "      <td>1.212000</td>\n",
              "      <td>1.154814</td>\n",
              "      <td>0.007700</td>\n",
              "      <td>0.794747</td>\n",
              "    </tr>\n",
              "    <tr>\n",
              "      <td>22</td>\n",
              "      <td>1.212000</td>\n",
              "      <td>1.132295</td>\n",
              "      <td>0.007700</td>\n",
              "      <td>0.802529</td>\n",
              "    </tr>\n",
              "    <tr>\n",
              "      <td>23</td>\n",
              "      <td>1.212000</td>\n",
              "      <td>1.110204</td>\n",
              "      <td>0.007700</td>\n",
              "      <td>0.808366</td>\n",
              "    </tr>\n",
              "    <tr>\n",
              "      <td>24</td>\n",
              "      <td>1.212000</td>\n",
              "      <td>1.088062</td>\n",
              "      <td>0.007700</td>\n",
              "      <td>0.813230</td>\n",
              "    </tr>\n",
              "    <tr>\n",
              "      <td>25</td>\n",
              "      <td>1.212000</td>\n",
              "      <td>1.066701</td>\n",
              "      <td>0.007700</td>\n",
              "      <td>0.820039</td>\n",
              "    </tr>\n",
              "    <tr>\n",
              "      <td>26</td>\n",
              "      <td>1.212000</td>\n",
              "      <td>1.046082</td>\n",
              "      <td>0.007700</td>\n",
              "      <td>0.827821</td>\n",
              "    </tr>\n",
              "    <tr>\n",
              "      <td>27</td>\n",
              "      <td>1.212000</td>\n",
              "      <td>1.025245</td>\n",
              "      <td>0.007700</td>\n",
              "      <td>0.830739</td>\n",
              "    </tr>\n",
              "    <tr>\n",
              "      <td>28</td>\n",
              "      <td>1.212000</td>\n",
              "      <td>1.006890</td>\n",
              "      <td>0.007700</td>\n",
              "      <td>0.834630</td>\n",
              "    </tr>\n",
              "    <tr>\n",
              "      <td>29</td>\n",
              "      <td>1.212000</td>\n",
              "      <td>0.987816</td>\n",
              "      <td>0.007700</td>\n",
              "      <td>0.840467</td>\n",
              "    </tr>\n",
              "    <tr>\n",
              "      <td>30</td>\n",
              "      <td>1.212000</td>\n",
              "      <td>0.969948</td>\n",
              "      <td>0.007700</td>\n",
              "      <td>0.844358</td>\n",
              "    </tr>\n",
              "    <tr>\n",
              "      <td>31</td>\n",
              "      <td>0.944200</td>\n",
              "      <td>0.953915</td>\n",
              "      <td>0.007700</td>\n",
              "      <td>0.848249</td>\n",
              "    </tr>\n",
              "    <tr>\n",
              "      <td>32</td>\n",
              "      <td>0.944200</td>\n",
              "      <td>0.939346</td>\n",
              "      <td>0.007700</td>\n",
              "      <td>0.854086</td>\n",
              "    </tr>\n",
              "  </tbody>\n",
              "</table><p>"
            ]
          },
          "metadata": {}
        },
        {
          "output_type": "display_data",
          "data": {
            "text/plain": [
              "<IPython.core.display.HTML object>"
            ],
            "text/html": [
              "\n",
              "    <div>\n",
              "      \n",
              "      <progress value='258' max='129' style='width:300px; height:20px; vertical-align: middle;'></progress>\n",
              "      [129/129 01:54]\n",
              "    </div>\n",
              "    "
            ]
          },
          "metadata": {}
        }
      ]
    },
    {
      "cell_type": "code",
      "source": [
        "# Evaluate the post-training model's performance on the validation or test dataset.\n",
        "# This function computes various evaluation metrics like accuracy, loss, etc.\n",
        "# and provides insights into how well the model is performing.\n",
        "\n",
        "trainer.evaluate()"
      ],
      "metadata": {
        "execution": {
          "iopub.status.busy": "2024-10-15T08:04:08.914837Z",
          "iopub.execute_input": "2024-10-15T08:04:08.915153Z",
          "iopub.status.idle": "2024-10-15T08:04:25.321582Z",
          "shell.execute_reply.started": "2024-10-15T08:04:08.915121Z",
          "shell.execute_reply": "2024-10-15T08:04:25.320569Z"
        },
        "trusted": true,
        "id": "Rn9YNFEwbyu5"
      },
      "execution_count": null,
      "outputs": []
    },
    {
      "cell_type": "code",
      "source": [
        "# Use the trained 'trainer' to make predictions on the 'test_data'.\n",
        "outputs = trainer.predict(test_data)\n",
        "\n",
        "# Print the metrics obtained from the prediction outputs.\n",
        "print(outputs.metrics)"
      ],
      "metadata": {
        "execution": {
          "iopub.status.busy": "2024-10-15T08:04:25.323038Z",
          "iopub.execute_input": "2024-10-15T08:04:25.323699Z",
          "iopub.status.idle": "2024-10-15T08:04:41.667770Z",
          "shell.execute_reply.started": "2024-10-15T08:04:25.323648Z",
          "shell.execute_reply": "2024-10-15T08:04:41.666728Z"
        },
        "trusted": true,
        "id": "HueceTq5byu6"
      },
      "execution_count": null,
      "outputs": []
    },
    {
      "cell_type": "code",
      "source": [
        "# Extract the true labels from the model outputs\n",
        "y_true = outputs.label_ids\n",
        "\n",
        "# Predict the labels by selecting the class with the highest probability\n",
        "y_pred = outputs.predictions.argmax(1)\n",
        "\n",
        "# Define a function to plot a confusion matrix\n",
        "def plot_confusion_matrix(cm, classes, title='Confusion Matrix', cmap=plt.cm.Blues, figsize=(10, 8)):\n",
        "    \"\"\"\n",
        "    This function plots a confusion matrix.\n",
        "\n",
        "    Parameters:\n",
        "        cm (array-like): Confusion matrix as returned by sklearn.metrics.confusion_matrix.\n",
        "        classes (list): List of class names, e.g., ['Class 0', 'Class 1'].\n",
        "        title (str): Title for the plot.\n",
        "        cmap (matplotlib colormap): Colormap for the plot.\n",
        "    \"\"\"\n",
        "    # Create a figure with a specified size\n",
        "    plt.figure(figsize=figsize)\n",
        "\n",
        "    # Display the confusion matrix as an image with a colormap\n",
        "    plt.imshow(cm, interpolation='nearest', cmap=cmap)\n",
        "    plt.title(title)\n",
        "    plt.colorbar()\n",
        "\n",
        "    # Define tick marks and labels for the classes on the axes\n",
        "    tick_marks = np.arange(len(classes))\n",
        "    plt.xticks(tick_marks, classes, rotation=90)\n",
        "    plt.yticks(tick_marks, classes)\n",
        "\n",
        "    fmt = '.0f'\n",
        "    # Add text annotations to the plot indicating the values in the cells\n",
        "    thresh = cm.max() / 2.0\n",
        "    for i, j in itertools.product(range(cm.shape[0]), range(cm.shape[1])):\n",
        "        plt.text(j, i, format(cm[i, j], fmt), horizontalalignment=\"center\", color=\"white\" if cm[i, j] > thresh else \"black\")\n",
        "\n",
        "    # Label the axes\n",
        "    plt.ylabel('True label')\n",
        "    plt.xlabel('Predicted label')\n",
        "\n",
        "    # Ensure the plot layout is tight\n",
        "    plt.tight_layout()\n",
        "    # Display the plot\n",
        "    plt.show()\n",
        "\n",
        "# Calculate accuracy and F1 score\n",
        "accuracy = accuracy_score(y_true, y_pred)\n",
        "f1 = f1_score(y_true, y_pred, average='macro')\n",
        "\n",
        "# Display accuracy and F1 score\n",
        "print(f\"Accuracy: {accuracy:.4f}\")\n",
        "print(f\"F1 Score: {f1:.4f}\")\n",
        "\n",
        "# Get the confusion matrix if there are a relatively small number of labels\n",
        "if len(labels_list) <= 120:\n",
        "    # Compute the confusion matrix\n",
        "    cm = confusion_matrix(y_true, y_pred)\n",
        "\n",
        "    # Plot the confusion matrix using the defined function\n",
        "    plot_confusion_matrix(cm, labels_list, figsize=(8, 6))\n",
        "\n",
        "# Finally, display classification report\n",
        "print()\n",
        "print(\"Classification report:\")\n",
        "print()\n",
        "print(classification_report(y_true, y_pred, target_names=labels_list, digits=4))"
      ],
      "metadata": {
        "execution": {
          "iopub.status.busy": "2024-10-15T08:04:41.669876Z",
          "iopub.execute_input": "2024-10-15T08:04:41.670209Z",
          "iopub.status.idle": "2024-10-15T08:04:42.127225Z",
          "shell.execute_reply.started": "2024-10-15T08:04:41.670170Z",
          "shell.execute_reply": "2024-10-15T08:04:42.126143Z"
        },
        "trusted": true,
        "id": "TRWHINpobyu6"
      },
      "execution_count": null,
      "outputs": []
    },
    {
      "cell_type": "code",
      "source": [
        "# Save the trained model: This line of code is responsible for saving the model\n",
        "# that has been trained using the trainer object. It will serialize the model\n",
        "# and its associated weights, making it possible to reload and use the model\n",
        "# in the future without the need to retrain it.\n",
        "trainer.save_model()"
      ],
      "metadata": {
        "execution": {
          "iopub.status.busy": "2024-10-15T08:04:42.128483Z",
          "iopub.execute_input": "2024-10-15T08:04:42.128845Z",
          "iopub.status.idle": "2024-10-15T08:04:42.745571Z",
          "shell.execute_reply.started": "2024-10-15T08:04:42.128809Z",
          "shell.execute_reply": "2024-10-15T08:04:42.744556Z"
        },
        "trusted": true,
        "id": "0K7CQ1b1byu7"
      },
      "execution_count": null,
      "outputs": []
    },
    {
      "cell_type": "code",
      "source": [
        "# Import the 'pipeline' function from the 'transformers' library.\n",
        "from transformers import pipeline\n",
        "\n",
        "# Create a pipeline for image classification tasks.\n",
        "# You need to specify the 'model_name' and the 'device' to use for inference.\n",
        "# - 'model_name': The name of the pre-trained model to be used for image classification.\n",
        "# - 'device': Specifies the device to use for running the model (0 for GPU, -1 for CPU).\n",
        "pipe = pipeline('image-classification', model=model_name, device=0)"
      ],
      "metadata": {
        "execution": {
          "iopub.status.busy": "2024-10-15T08:04:42.746836Z",
          "iopub.execute_input": "2024-10-15T08:04:42.747186Z",
          "iopub.status.idle": "2024-10-15T08:04:42.970422Z",
          "shell.execute_reply.started": "2024-10-15T08:04:42.747153Z",
          "shell.execute_reply": "2024-10-15T08:04:42.969534Z"
        },
        "trusted": true,
        "id": "JzROpfPKbyu7"
      },
      "execution_count": null,
      "outputs": []
    },
    {
      "cell_type": "code",
      "source": [
        "# Accessing an image from the 'test_data' dataset using index 1.\n",
        "image = test_data[1][\"image\"]\n",
        "\n",
        "# Displaying the 'image' variable.\n",
        "image"
      ],
      "metadata": {
        "execution": {
          "iopub.status.busy": "2024-10-15T08:04:42.971614Z",
          "iopub.execute_input": "2024-10-15T08:04:42.971984Z",
          "iopub.status.idle": "2024-10-15T08:04:43.147124Z",
          "shell.execute_reply.started": "2024-10-15T08:04:42.971944Z",
          "shell.execute_reply": "2024-10-15T08:04:43.145788Z"
        },
        "trusted": true,
        "id": "vuR6hWz_byu7"
      },
      "execution_count": null,
      "outputs": []
    },
    {
      "cell_type": "code",
      "source": [
        "# Apply the 'pipe' function to process the 'image' variable.\n",
        "pipe(image)"
      ],
      "metadata": {
        "execution": {
          "iopub.status.busy": "2024-10-15T08:04:43.148353Z",
          "iopub.execute_input": "2024-10-15T08:04:43.149267Z",
          "iopub.status.idle": "2024-10-15T08:04:43.192075Z",
          "shell.execute_reply.started": "2024-10-15T08:04:43.149229Z",
          "shell.execute_reply": "2024-10-15T08:04:43.190782Z"
        },
        "trusted": true,
        "id": "__hkg2zJbyu8"
      },
      "execution_count": null,
      "outputs": []
    },
    {
      "cell_type": "code",
      "source": [
        "# This line of code accesses the \"label\" attribute of a specific element in the test_data list.\n",
        "# It's used to retrieve the actual label associated with a test data point.\n",
        "id2label[test_data[1][\"label\"]]"
      ],
      "metadata": {
        "execution": {
          "iopub.status.busy": "2024-10-15T08:04:43.197136Z",
          "iopub.execute_input": "2024-10-15T08:04:43.197478Z",
          "iopub.status.idle": "2024-10-15T08:04:43.223975Z",
          "shell.execute_reply.started": "2024-10-15T08:04:43.197441Z",
          "shell.execute_reply": "2024-10-15T08:04:43.223137Z"
        },
        "trusted": true,
        "id": "SladA1sDbyvA"
      },
      "execution_count": null,
      "outputs": []
    },
    {
      "cell_type": "markdown",
      "source": [
        "# Send model to Huggingface"
      ],
      "metadata": {
        "id": "uy46iOvEbyvA"
      }
    },
    {
      "cell_type": "code",
      "source": [
        "# Import the necessary module to interact with the Hugging Face Hub.\n",
        "from huggingface_hub import notebook_login\n",
        "\n",
        "# Perform a login to the Hugging Face Hub.\n",
        "notebook_login()"
      ],
      "metadata": {
        "execution": {
          "iopub.status.busy": "2024-10-15T08:05:57.730314Z",
          "iopub.execute_input": "2024-10-15T08:05:57.730718Z",
          "iopub.status.idle": "2024-10-15T08:05:57.754489Z",
          "shell.execute_reply.started": "2024-10-15T08:05:57.730682Z",
          "shell.execute_reply": "2024-10-15T08:05:57.753618Z"
        },
        "trusted": true,
        "id": "SkACOV2bbyvB"
      },
      "execution_count": null,
      "outputs": []
    },
    {
      "cell_type": "code",
      "source": [
        "# Import the HfApi class from the huggingface_hub library.\n",
        "from huggingface_hub import HfApi\n",
        "\n",
        "# Create an instance of the HfApi class.\n",
        "api = HfApi()\n",
        "\n",
        "# Define the repository ID by combining the username \"erwinalam\" with the model name.\n",
        "repo_id = f\"erwinalam/{model_name}\"\n",
        "\n",
        "try:\n",
        "    # Attempt to create a new repository on the Hugging Face Model Hub using the specified repo_id.\n",
        "    api.create_repo(repo_id)\n",
        "\n",
        "    # If the repository creation is successful, print a message indicating that the repository was created.\n",
        "    print(f\"Repo {repo_id} created\")\n",
        "except:\n",
        "    # If an exception is raised, print a message indicating that the repository already exists.\n",
        "    print(f\"Repo {repo_id} already exists\")"
      ],
      "metadata": {
        "execution": {
          "iopub.status.busy": "2024-10-15T08:06:23.733175Z",
          "iopub.execute_input": "2024-10-15T08:06:23.733999Z",
          "iopub.status.idle": "2024-10-15T08:06:24.025996Z",
          "shell.execute_reply.started": "2024-10-15T08:06:23.733957Z",
          "shell.execute_reply": "2024-10-15T08:06:24.024902Z"
        },
        "trusted": true,
        "id": "0m263ZbWbyvb"
      },
      "execution_count": null,
      "outputs": []
    },
    {
      "cell_type": "code",
      "source": [
        "# Uploading a folder to the Hugging Face Model Hub\n",
        "api.upload_folder(\n",
        "    folder_path=model_name,  # The path to the folder to be uploaded\n",
        "    path_in_repo=\".\",  # The path where the folder will be stored in the repository\n",
        "    repo_id=repo_id,  # The ID of the repository where the folder will be uploaded\n",
        "    repo_type=\"model\"  # The type of the repository (in this case, a model repository)\n",
        ")"
      ],
      "metadata": {
        "execution": {
          "iopub.status.busy": "2024-10-15T08:06:24.027567Z",
          "iopub.execute_input": "2024-10-15T08:06:24.027882Z",
          "iopub.status.idle": "2024-10-15T08:06:50.018988Z",
          "shell.execute_reply.started": "2024-10-15T08:06:24.027849Z",
          "shell.execute_reply": "2024-10-15T08:06:50.017975Z"
        },
        "trusted": true,
        "id": "HBwFtsp9byvd"
      },
      "execution_count": null,
      "outputs": []
    }
  ]
}